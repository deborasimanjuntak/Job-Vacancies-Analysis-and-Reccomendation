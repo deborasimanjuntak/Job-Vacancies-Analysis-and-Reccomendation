{
 "cells": [
  {
   "cell_type": "code",
   "execution_count": 1,
   "metadata": {},
   "outputs": [],
   "source": [
    "# Importing the libraries\n",
    "import pandas as pd\n",
    "import numpy as np\n",
    "import matplotlib.pyplot as plt\n",
    "import seaborn as sns\n",
    "import ipywidgets\n",
    "from ipywidgets import interact\n",
    "import warnings\n",
    "warnings.filterwarnings('ignore')"
   ]
  },
  {
   "cell_type": "code",
   "execution_count": 2,
   "metadata": {},
   "outputs": [],
   "source": [
    "plt.style.use('seaborn-darkgrid')"
   ]
  },
  {
   "cell_type": "code",
   "execution_count": 3,
   "metadata": {},
   "outputs": [
    {
     "data": {
      "text/html": [
       "<div>\n",
       "<style scoped>\n",
       "    .dataframe tbody tr th:only-of-type {\n",
       "        vertical-align: middle;\n",
       "    }\n",
       "\n",
       "    .dataframe tbody tr th {\n",
       "        vertical-align: top;\n",
       "    }\n",
       "\n",
       "    .dataframe thead th {\n",
       "        text-align: right;\n",
       "    }\n",
       "</style>\n",
       "<table border=\"1\" class=\"dataframe\">\n",
       "  <thead>\n",
       "    <tr style=\"text-align: right;\">\n",
       "      <th></th>\n",
       "      <th>company</th>\n",
       "      <th>education</th>\n",
       "      <th>experience</th>\n",
       "      <th>industry</th>\n",
       "      <th>jobdescription</th>\n",
       "      <th>jobid</th>\n",
       "      <th>joblocation_address</th>\n",
       "      <th>jobtitle</th>\n",
       "      <th>numberofpositions</th>\n",
       "      <th>payrate</th>\n",
       "      <th>postdate</th>\n",
       "      <th>site_name</th>\n",
       "      <th>skills</th>\n",
       "      <th>uniq_id</th>\n",
       "    </tr>\n",
       "  </thead>\n",
       "  <tbody>\n",
       "    <tr>\n",
       "      <th>0</th>\n",
       "      <td>MM Media Pvt Ltd</td>\n",
       "      <td>UG: B.Tech/B.E. - Any Specialization PG:Any Po...</td>\n",
       "      <td>0 - 1 yrs</td>\n",
       "      <td>Media / Entertainment / Internet</td>\n",
       "      <td>Job Description   Send me Jobs like this Quali...</td>\n",
       "      <td>210516002263</td>\n",
       "      <td>Chennai</td>\n",
       "      <td>Walkin Data Entry Operator (night Shift)</td>\n",
       "      <td>NaN</td>\n",
       "      <td>1,50,000 - 2,25,000 P.A</td>\n",
       "      <td>2016-05-21 19:30:00 +0000</td>\n",
       "      <td>NaN</td>\n",
       "      <td>ITES</td>\n",
       "      <td>43b19632647068535437c774b6ca6cf8</td>\n",
       "    </tr>\n",
       "    <tr>\n",
       "      <th>1</th>\n",
       "      <td>find live infotech</td>\n",
       "      <td>UG: B.Tech/B.E. - Any Specialization PG:MBA/PG...</td>\n",
       "      <td>0 - 0 yrs</td>\n",
       "      <td>Advertising / PR / MR / Event Management</td>\n",
       "      <td>Job Description   Send me Jobs like this Quali...</td>\n",
       "      <td>210516002391</td>\n",
       "      <td>Chennai</td>\n",
       "      <td>Work Based Onhome Based Part Time.</td>\n",
       "      <td>60.0</td>\n",
       "      <td>1,50,000 - 2,50,000 P.A. 20000</td>\n",
       "      <td>2016-05-21 19:30:00 +0000</td>\n",
       "      <td>NaN</td>\n",
       "      <td>Marketing</td>\n",
       "      <td>d4c72325e57f89f364812b5ed5a795f0</td>\n",
       "    </tr>\n",
       "    <tr>\n",
       "      <th>2</th>\n",
       "      <td>Softtech Career Infosystem Pvt. Ltd</td>\n",
       "      <td>UG: Any Graduate - Any Specialization PG:Any P...</td>\n",
       "      <td>4 - 8 yrs</td>\n",
       "      <td>IT-Software / Software Services</td>\n",
       "      <td>Job Description   Send me Jobs like this - as ...</td>\n",
       "      <td>101016900534</td>\n",
       "      <td>Bengaluru</td>\n",
       "      <td>Pl/sql Developer - SQL</td>\n",
       "      <td>NaN</td>\n",
       "      <td>Not Disclosed by Recruiter</td>\n",
       "      <td>2016-10-13 16:20:55 +0000</td>\n",
       "      <td>NaN</td>\n",
       "      <td>IT Software - Application Programming</td>\n",
       "      <td>c47df6f4cfdf5b46f1fd713ba61b9eba</td>\n",
       "    </tr>\n",
       "  </tbody>\n",
       "</table>\n",
       "</div>"
      ],
      "text/plain": [
       "                               company  \\\n",
       "0                     MM Media Pvt Ltd   \n",
       "1                   find live infotech   \n",
       "2  Softtech Career Infosystem Pvt. Ltd   \n",
       "\n",
       "                                           education experience  \\\n",
       "0  UG: B.Tech/B.E. - Any Specialization PG:Any Po...  0 - 1 yrs   \n",
       "1  UG: B.Tech/B.E. - Any Specialization PG:MBA/PG...  0 - 0 yrs   \n",
       "2  UG: Any Graduate - Any Specialization PG:Any P...  4 - 8 yrs   \n",
       "\n",
       "                                   industry  \\\n",
       "0          Media / Entertainment / Internet   \n",
       "1  Advertising / PR / MR / Event Management   \n",
       "2           IT-Software / Software Services   \n",
       "\n",
       "                                      jobdescription         jobid  \\\n",
       "0  Job Description   Send me Jobs like this Quali...  210516002263   \n",
       "1  Job Description   Send me Jobs like this Quali...  210516002391   \n",
       "2  Job Description   Send me Jobs like this - as ...  101016900534   \n",
       "\n",
       "  joblocation_address                                  jobtitle  \\\n",
       "0             Chennai  Walkin Data Entry Operator (night Shift)   \n",
       "1             Chennai        Work Based Onhome Based Part Time.   \n",
       "2           Bengaluru                    Pl/sql Developer - SQL   \n",
       "\n",
       "   numberofpositions                         payrate  \\\n",
       "0                NaN         1,50,000 - 2,25,000 P.A   \n",
       "1               60.0  1,50,000 - 2,50,000 P.A. 20000   \n",
       "2                NaN      Not Disclosed by Recruiter   \n",
       "\n",
       "                    postdate site_name                                 skills  \\\n",
       "0  2016-05-21 19:30:00 +0000       NaN                                   ITES   \n",
       "1  2016-05-21 19:30:00 +0000       NaN                              Marketing   \n",
       "2  2016-10-13 16:20:55 +0000       NaN  IT Software - Application Programming   \n",
       "\n",
       "                            uniq_id  \n",
       "0  43b19632647068535437c774b6ca6cf8  \n",
       "1  d4c72325e57f89f364812b5ed5a795f0  \n",
       "2  c47df6f4cfdf5b46f1fd713ba61b9eba  "
      ]
     },
     "execution_count": 3,
     "metadata": {},
     "output_type": "execute_result"
    }
   ],
   "source": [
    "#Importing the dataset\n",
    "data=pd.read_csv('21. naukri.csv')\n",
    "data.head(3)"
   ]
  },
  {
   "cell_type": "code",
   "execution_count": 4,
   "metadata": {},
   "outputs": [
    {
     "name": "stdout",
     "output_type": "stream",
     "text": [
      "<class 'pandas.core.frame.DataFrame'>\n",
      "RangeIndex: 22000 entries, 0 to 21999\n",
      "Data columns (total 14 columns):\n",
      " #   Column               Non-Null Count  Dtype  \n",
      "---  ------               --------------  -----  \n",
      " 0   company              21996 non-null  object \n",
      " 1   education            20004 non-null  object \n",
      " 2   experience           21996 non-null  object \n",
      " 3   industry             21995 non-null  object \n",
      " 4   jobdescription       21996 non-null  object \n",
      " 5   jobid                22000 non-null  int64  \n",
      " 6   joblocation_address  21499 non-null  object \n",
      " 7   jobtitle             22000 non-null  object \n",
      " 8   numberofpositions    4464 non-null   float64\n",
      " 9   payrate              21903 non-null  object \n",
      " 10  postdate             21977 non-null  object \n",
      " 11  site_name            3987 non-null   object \n",
      " 12  skills               21472 non-null  object \n",
      " 13  uniq_id              22000 non-null  object \n",
      "dtypes: float64(1), int64(1), object(12)\n",
      "memory usage: 2.3+ MB\n"
     ]
    }
   ],
   "source": [
    "data.info()"
   ]
  },
  {
   "cell_type": "code",
   "execution_count": 5,
   "metadata": {},
   "outputs": [
    {
     "data": {
      "text/html": [
       "<div>\n",
       "<style scoped>\n",
       "    .dataframe tbody tr th:only-of-type {\n",
       "        vertical-align: middle;\n",
       "    }\n",
       "\n",
       "    .dataframe tbody tr th {\n",
       "        vertical-align: top;\n",
       "    }\n",
       "\n",
       "    .dataframe thead th {\n",
       "        text-align: right;\n",
       "    }\n",
       "</style>\n",
       "<table border=\"1\" class=\"dataframe\">\n",
       "  <thead>\n",
       "    <tr style=\"text-align: right;\">\n",
       "      <th></th>\n",
       "      <th>company</th>\n",
       "      <th>education</th>\n",
       "      <th>experience</th>\n",
       "      <th>industry</th>\n",
       "      <th>joblocation_address</th>\n",
       "      <th>numberofpositions</th>\n",
       "      <th>payrate</th>\n",
       "      <th>skills</th>\n",
       "    </tr>\n",
       "  </thead>\n",
       "  <tbody>\n",
       "    <tr>\n",
       "      <th>0</th>\n",
       "      <td>MM Media Pvt Ltd</td>\n",
       "      <td>UG: B.Tech/B.E. - Any Specialization PG:Any Po...</td>\n",
       "      <td>0 - 1 yrs</td>\n",
       "      <td>Media / Entertainment / Internet</td>\n",
       "      <td>Chennai</td>\n",
       "      <td>NaN</td>\n",
       "      <td>1,50,000 - 2,25,000 P.A</td>\n",
       "      <td>ITES</td>\n",
       "    </tr>\n",
       "    <tr>\n",
       "      <th>1</th>\n",
       "      <td>find live infotech</td>\n",
       "      <td>UG: B.Tech/B.E. - Any Specialization PG:MBA/PG...</td>\n",
       "      <td>0 - 0 yrs</td>\n",
       "      <td>Advertising / PR / MR / Event Management</td>\n",
       "      <td>Chennai</td>\n",
       "      <td>60.0</td>\n",
       "      <td>1,50,000 - 2,50,000 P.A. 20000</td>\n",
       "      <td>Marketing</td>\n",
       "    </tr>\n",
       "    <tr>\n",
       "      <th>2</th>\n",
       "      <td>Softtech Career Infosystem Pvt. Ltd</td>\n",
       "      <td>UG: Any Graduate - Any Specialization PG:Any P...</td>\n",
       "      <td>4 - 8 yrs</td>\n",
       "      <td>IT-Software / Software Services</td>\n",
       "      <td>Bengaluru</td>\n",
       "      <td>NaN</td>\n",
       "      <td>Not Disclosed by Recruiter</td>\n",
       "      <td>IT Software - Application Programming</td>\n",
       "    </tr>\n",
       "    <tr>\n",
       "      <th>3</th>\n",
       "      <td>Onboard HRServices LLP</td>\n",
       "      <td>UG: Any Graduate - Any Specialization PG:CA Do...</td>\n",
       "      <td>11 - 15 yrs</td>\n",
       "      <td>Banking / Financial Services / Broking</td>\n",
       "      <td>Mumbai, Bengaluru, Kolkata, Chennai, Coimbator...</td>\n",
       "      <td>NaN</td>\n",
       "      <td>Not Disclosed by Recruiter</td>\n",
       "      <td>Accounts</td>\n",
       "    </tr>\n",
       "    <tr>\n",
       "      <th>4</th>\n",
       "      <td>Spire Technologies and Solutions Pvt. Ltd.</td>\n",
       "      <td>UG: B.Tech/B.E. - Any Specialization PG:Any Po...</td>\n",
       "      <td>6 - 8 yrs</td>\n",
       "      <td>IT-Software / Software Services</td>\n",
       "      <td>Bengaluru</td>\n",
       "      <td>4.0</td>\n",
       "      <td>Not Disclosed by Recruiter</td>\n",
       "      <td>IT Software - Application Programming</td>\n",
       "    </tr>\n",
       "  </tbody>\n",
       "</table>\n",
       "</div>"
      ],
      "text/plain": [
       "                                      company  \\\n",
       "0                            MM Media Pvt Ltd   \n",
       "1                          find live infotech   \n",
       "2         Softtech Career Infosystem Pvt. Ltd   \n",
       "3                      Onboard HRServices LLP   \n",
       "4  Spire Technologies and Solutions Pvt. Ltd.   \n",
       "\n",
       "                                           education   experience  \\\n",
       "0  UG: B.Tech/B.E. - Any Specialization PG:Any Po...    0 - 1 yrs   \n",
       "1  UG: B.Tech/B.E. - Any Specialization PG:MBA/PG...    0 - 0 yrs   \n",
       "2  UG: Any Graduate - Any Specialization PG:Any P...    4 - 8 yrs   \n",
       "3  UG: Any Graduate - Any Specialization PG:CA Do...  11 - 15 yrs   \n",
       "4  UG: B.Tech/B.E. - Any Specialization PG:Any Po...    6 - 8 yrs   \n",
       "\n",
       "                                   industry  \\\n",
       "0          Media / Entertainment / Internet   \n",
       "1  Advertising / PR / MR / Event Management   \n",
       "2           IT-Software / Software Services   \n",
       "3    Banking / Financial Services / Broking   \n",
       "4           IT-Software / Software Services   \n",
       "\n",
       "                                 joblocation_address  numberofpositions  \\\n",
       "0                                            Chennai                NaN   \n",
       "1                                            Chennai               60.0   \n",
       "2                                          Bengaluru                NaN   \n",
       "3  Mumbai, Bengaluru, Kolkata, Chennai, Coimbator...                NaN   \n",
       "4                                          Bengaluru                4.0   \n",
       "\n",
       "                          payrate                                 skills  \n",
       "0         1,50,000 - 2,25,000 P.A                                   ITES  \n",
       "1  1,50,000 - 2,50,000 P.A. 20000                              Marketing  \n",
       "2      Not Disclosed by Recruiter  IT Software - Application Programming  \n",
       "3      Not Disclosed by Recruiter                               Accounts  \n",
       "4      Not Disclosed by Recruiter  IT Software - Application Programming  "
      ]
     },
     "execution_count": 5,
     "metadata": {},
     "output_type": "execute_result"
    }
   ],
   "source": [
    "# There are 14 columns in dataset. Some of them dont have meaningful information, so we are gonna delete these columns\n",
    "drop=['jobdescription','jobid','site_name','uniq_id','jobtitle','postdate']\n",
    "data=data.drop(columns=drop)\n",
    "data.head()"
   ]
  },
  {
   "cell_type": "markdown",
   "metadata": {},
   "source": [
    "## Cleaning and Analysing Column Experience ##"
   ]
  },
  {
   "cell_type": "code",
   "execution_count": 6,
   "metadata": {},
   "outputs": [
    {
     "data": {
      "text/plain": [
       "4"
      ]
     },
     "execution_count": 6,
     "metadata": {},
     "output_type": "execute_result"
    }
   ],
   "source": [
    "data.experience.isnull().sum()"
   ]
  },
  {
   "cell_type": "code",
   "execution_count": 7,
   "metadata": {},
   "outputs": [
    {
     "data": {
      "text/plain": [
       "2 - 7 yrs      1712\n",
       "2 - 5 yrs      1231\n",
       "3 - 8 yrs      1192\n",
       "3 - 5 yrs      1181\n",
       "5 - 10 yrs     1084\n",
       "1 - 3 yrs       755\n",
       "2 - 4 yrs       729\n",
       "4 - 9 yrs       715\n",
       "0 - 5 yrs       654\n",
       "3 - 6 yrs       613\n",
       "1 - 6 yrs       591\n",
       "0 - 3 yrs       556\n",
       "10 - 15 yrs     517\n",
       "0 - 1 yrs       509\n",
       "5 - 8 yrs       499\n",
       "1 - 5 yrs       498\n",
       "0 - 2 yrs       481\n",
       "1 - 2 yrs       477\n",
       "6 - 11 yrs      469\n",
       "2 - 3 yrs       454\n",
       "Name: experience, dtype: int64"
      ]
     },
     "execution_count": 7,
     "metadata": {},
     "output_type": "execute_result"
    }
   ],
   "source": [
    "data.experience.value_counts()[:20]"
   ]
  },
  {
   "cell_type": "code",
   "execution_count": 8,
   "metadata": {},
   "outputs": [],
   "source": [
    "# There are 4 missing values in column experience, I will fill the missing value with the mode of this column\n",
    "data.experience.fillna(\"2 - 7 yrs\",inplace=True)"
   ]
  },
  {
   "cell_type": "code",
   "execution_count": 9,
   "metadata": {
    "scrolled": true
   },
   "outputs": [],
   "source": [
    "# Here I split the data before extracting the minimum and maximum year experience\n",
    "year_experience=data.experience.str.split(' ')\n",
    "data['min_year_exp']=year_experience.apply(lambda x:x[0])\n",
    "data['max_year_exp']=year_experience.apply(lambda x:x[2] if len(x)>2 else x[0])"
   ]
  },
  {
   "cell_type": "code",
   "execution_count": 10,
   "metadata": {},
   "outputs": [
    {
     "data": {
      "text/plain": [
       "2      4534\n",
       "3      3497\n",
       "1      2733\n",
       "0      2603\n",
       "5      2174\n",
       "4      1995\n",
       "6      1030\n",
       "10      991\n",
       "8       830\n",
       "7       698\n",
       "12      214\n",
       "9       206\n",
       "15      201\n",
       "Not     111\n",
       "11       48\n",
       "13       41\n",
       "14       41\n",
       "20       19\n",
       "18       15\n",
       "16       11\n",
       "17        5\n",
       "25        1\n",
       "26        1\n",
       "23        1\n",
       "Name: min_year_exp, dtype: int64"
      ]
     },
     "execution_count": 10,
     "metadata": {},
     "output_type": "execute_result"
    }
   ],
   "source": [
    "data['min_year_exp'].value_counts()"
   ]
  },
  {
   "cell_type": "code",
   "execution_count": 11,
   "metadata": {},
   "outputs": [
    {
     "data": {
      "text/plain": [
       "['Not Mentioned',\n",
       " 'Not Mentioned',\n",
       " 'Not Mentioned',\n",
       " 'Not Mentioned',\n",
       " 'Not Mentioned',\n",
       " 'Not Mentioned',\n",
       " 'Not Mentioned',\n",
       " 'Not Mentioned',\n",
       " 'Not Mentioned',\n",
       " 'Not Mentioned',\n",
       " 'Not Mentioned',\n",
       " 'Not Mentioned',\n",
       " 'Not Mentioned',\n",
       " 'Not Mentioned',\n",
       " 'Not Mentioned',\n",
       " 'Not Mentioned',\n",
       " 'Not Mentioned',\n",
       " 'Not Mentioned',\n",
       " 'Not Mentioned',\n",
       " 'Not Mentioned',\n",
       " 'Not Mentioned',\n",
       " 'Not Mentioned',\n",
       " 'Not Mentioned',\n",
       " 'Not Mentioned',\n",
       " 'Not Mentioned',\n",
       " 'Not Mentioned',\n",
       " 'Not Mentioned',\n",
       " 'Not Mentioned',\n",
       " 'Not Mentioned',\n",
       " 'Not Mentioned',\n",
       " 'Not Mentioned',\n",
       " 'Not Mentioned',\n",
       " 'Not Mentioned',\n",
       " 'Not Mentioned',\n",
       " 'Not Mentioned',\n",
       " 'Not Mentioned',\n",
       " 'Not Mentioned',\n",
       " 'Not Mentioned',\n",
       " 'Not Mentioned',\n",
       " 'Not Mentioned',\n",
       " 'Not Mentioned',\n",
       " 'Not Mentioned',\n",
       " 'Not Mentioned',\n",
       " 'Not Mentioned',\n",
       " 'Not Mentioned',\n",
       " 'Not Mentioned',\n",
       " 'Not Mentioned',\n",
       " 'Not Mentioned',\n",
       " 'Not Mentioned',\n",
       " 'Not Mentioned',\n",
       " 'Not Mentioned',\n",
       " 'Not Mentioned',\n",
       " 'Not Mentioned',\n",
       " 'Not Mentioned',\n",
       " 'Not Mentioned',\n",
       " 'Not Mentioned',\n",
       " 'Not Mentioned',\n",
       " 'Not Mentioned',\n",
       " 'Not Mentioned',\n",
       " 'Not Mentioned',\n",
       " 'Not Mentioned',\n",
       " 'Not Mentioned',\n",
       " 'Not Mentioned',\n",
       " 'Not Mentioned',\n",
       " 'Not Mentioned',\n",
       " 'Not Mentioned',\n",
       " 'Not Mentioned',\n",
       " 'Not Mentioned',\n",
       " 'Not Mentioned',\n",
       " 'Not Mentioned',\n",
       " 'Not Mentioned',\n",
       " 'Not Mentioned',\n",
       " 'Not Mentioned',\n",
       " 'Not Mentioned',\n",
       " 'Not Mentioned',\n",
       " 'Not Mentioned',\n",
       " 'Not Mentioned',\n",
       " 'Not Mentioned',\n",
       " 'Not Mentioned',\n",
       " 'Not Mentioned',\n",
       " 'Not Mentioned',\n",
       " 'Not Mentioned',\n",
       " 'Not Mentioned',\n",
       " 'Not Mentioned',\n",
       " 'Not Mentioned',\n",
       " 'Not Mentioned',\n",
       " 'Not Mentioned',\n",
       " 'Not Mentioned',\n",
       " 'Not Mentioned',\n",
       " 'Not Mentioned',\n",
       " 'Not Mentioned',\n",
       " 'Not Mentioned',\n",
       " 'Not Mentioned',\n",
       " 'Not Mentioned',\n",
       " 'Not Mentioned',\n",
       " 'Not Mentioned',\n",
       " 'Not Mentioned',\n",
       " 'Not Mentioned',\n",
       " 'Not Mentioned',\n",
       " 'Not Mentioned',\n",
       " 'Not Mentioned',\n",
       " 'Not Mentioned',\n",
       " 'Not Mentioned',\n",
       " 'Not Mentioned',\n",
       " 'Not Mentioned',\n",
       " 'Not Mentioned',\n",
       " 'Not Mentioned',\n",
       " 'Not Mentioned',\n",
       " 'Not Mentioned',\n",
       " 'Not Mentioned',\n",
       " 'Not Mentioned']"
      ]
     },
     "execution_count": 11,
     "metadata": {},
     "output_type": "execute_result"
    }
   ],
   "source": [
    "# The are some rows with value \"Not\" that need to be replaced\n",
    "# But before cleaning the data, I want to see what word 'Not' means, so I will go back to columns experience and see the whole row with value \"Not\"\n",
    "dirty_list=[]\n",
    "for i in range(len(data)):\n",
    "    if ('Not' in data.experience[i]):\n",
    "        dirty_list.append(data.experience[i])\n",
    "dirty_list"
   ]
  },
  {
   "cell_type": "code",
   "execution_count": 12,
   "metadata": {},
   "outputs": [
    {
     "data": {
      "text/plain": [
       "2     4645\n",
       "3     3497\n",
       "1     2733\n",
       "0     2603\n",
       "5     2174\n",
       "4     1995\n",
       "6     1030\n",
       "10     991\n",
       "8      830\n",
       "7      698\n",
       "12     214\n",
       "9      206\n",
       "15     201\n",
       "11      48\n",
       "13      41\n",
       "14      41\n",
       "20      19\n",
       "18      15\n",
       "16      11\n",
       "17       5\n",
       "23       1\n",
       "25       1\n",
       "26       1\n",
       "Name: min_year_exp, dtype: int64"
      ]
     },
     "execution_count": 12,
     "metadata": {},
     "output_type": "execute_result"
    }
   ],
   "source": [
    "# Because its not mentioned, so I am going to replace 'Not' with '2'\n",
    "data['min_year_exp']=np.where(data.min_year_exp=='Not','2',data.min_year_exp)\n",
    "data['min_year_exp'].value_counts()"
   ]
  },
  {
   "cell_type": "code",
   "execution_count": 13,
   "metadata": {
    "scrolled": true
   },
   "outputs": [
    {
     "data": {
      "text/plain": [
       "5      3720\n",
       "7      2732\n",
       "8      2332\n",
       "6      2110\n",
       "10     1823\n",
       "3      1768\n",
       "4      1547\n",
       "9      1039\n",
       "2       962\n",
       "12      702\n",
       "15      616\n",
       "11      581\n",
       "1       517\n",
       "13      420\n",
       "20      291\n",
       "0       173\n",
       "14      164\n",
       "Not     111\n",
       "18      104\n",
       "16       72\n",
       "17       68\n",
       "25       50\n",
       "22       36\n",
       "19       20\n",
       "23       13\n",
       "24        9\n",
       "21        7\n",
       "30        6\n",
       "28        4\n",
       "27        1\n",
       "26        1\n",
       "-1        1\n",
       "Name: max_year_exp, dtype: int64"
      ]
     },
     "execution_count": 13,
     "metadata": {},
     "output_type": "execute_result"
    }
   ],
   "source": [
    "# We are going to do the same with column max_year_exp\n",
    "data['max_year_exp'].value_counts()"
   ]
  },
  {
   "cell_type": "code",
   "execution_count": 14,
   "metadata": {},
   "outputs": [
    {
     "data": {
      "text/plain": [
       "5     3720\n",
       "7     2843\n",
       "8     2332\n",
       "6     2110\n",
       "10    1823\n",
       "3     1768\n",
       "4     1547\n",
       "9     1039\n",
       "2      962\n",
       "12     702\n",
       "15     616\n",
       "11     581\n",
       "1      518\n",
       "13     420\n",
       "20     291\n",
       "0      173\n",
       "14     164\n",
       "18     104\n",
       "16      72\n",
       "17      68\n",
       "25      50\n",
       "22      36\n",
       "19      20\n",
       "23      13\n",
       "24       9\n",
       "21       7\n",
       "30       6\n",
       "28       4\n",
       "27       1\n",
       "26       1\n",
       "Name: max_year_exp, dtype: int64"
      ]
     },
     "execution_count": 14,
     "metadata": {},
     "output_type": "execute_result"
    }
   ],
   "source": [
    "# There are rows with value 'Not' and '-1'. I will replace value 'Not' with '7' and value '-1' with 1\n",
    "data['max_year_exp']=np.where(data.max_year_exp=='Not','7',data.max_year_exp)\n",
    "data['max_year_exp']=np.where(data.max_year_exp=='-1','1',data.max_year_exp)\n",
    "data['max_year_exp'].value_counts()"
   ]
  },
  {
   "cell_type": "code",
   "execution_count": 15,
   "metadata": {},
   "outputs": [],
   "source": [
    "# Now lets change string in column min_year_exp and max_year_exp into integer\n",
    "data['min_year_exp']=data['min_year_exp'].astype(int)\n",
    "data['max_year_exp']=data['max_year_exp'].astype(int)"
   ]
  },
  {
   "cell_type": "code",
   "execution_count": 16,
   "metadata": {},
   "outputs": [
    {
     "data": {
      "image/png": "[encoded data removed]",
      "text/plain": [
       "<Figure size 1152x432 with 2 Axes>"
      ]
     },
     "metadata": {},
     "output_type": "display_data"
    }
   ],
   "source": [
    "# After cleaning column min_year_exp and max_year_exp, I am going to see the distribution in both columns\n",
    "plt.figure(figsize=(16,6))\n",
    "plt.subplot(1,2,1)\n",
    "sns.countplot(data.min_year_exp,palette='rocket')\n",
    "plt.xticks(range(0,20))\n",
    "plt.title(\"Distribution of Minimal Year Experience\",weight='bold',size=18)\n",
    "plt.subplot(1,2,2)\n",
    "sns.countplot(data.max_year_exp,palette='rocket')\n",
    "plt.xticks(range(0,26))\n",
    "plt.title(\"Distribution of Maximal Year Experience\",weight='bold',size=18)\n",
    "plt.show()"
   ]
  },
  {
   "cell_type": "markdown",
   "metadata": {},
   "source": [
    "From the distribution above, we see that the most common minimal year experience required for job vacancies is 2 years experience, where the most common maximal year experience required is 5 years experience"
   ]
  },
  {
   "cell_type": "markdown",
   "metadata": {},
   "source": [
    "## Cleaning and Analysing Column Education ##"
   ]
  },
  {
   "cell_type": "code",
   "execution_count": 17,
   "metadata": {
    "scrolled": true
   },
   "outputs": [
    {
     "data": {
      "text/plain": [
       "array(['UG: B.Tech/B.E. - Any Specialization PG:Any Postgraduate - Any Specialization, Post Graduation Not Required',\n",
       "       'UG: B.Tech/B.E. - Any Specialization PG:MBA/PGDM - Any Specialization',\n",
       "       'UG: Any Graduate - Any Specialization PG:Any Postgraduate Doctorate:Doctorate Not Required',\n",
       "       'UG: Any Graduate - Any Specialization PG:CA Doctorate:Doctorate Not Required',\n",
       "       'UG: B.Tech/B.E. - Any Specialization PG:Any Postgraduate - Any Specialization, MCA - Computers, M.Tech - Any Specialization Doctorate:Any Doctorate - Any Specialization'],\n",
       "      dtype=object)"
      ]
     },
     "execution_count": 17,
     "metadata": {},
     "output_type": "execute_result"
    }
   ],
   "source": [
    "data.education.unique()[:5]"
   ]
  },
  {
   "cell_type": "code",
   "execution_count": 18,
   "metadata": {},
   "outputs": [
    {
     "data": {
      "text/plain": [
       "1996"
      ]
     },
     "execution_count": 18,
     "metadata": {},
     "output_type": "execute_result"
    }
   ],
   "source": [
    "#Check the number of null values in column education\n",
    "data.education.isnull().sum()"
   ]
  },
  {
   "cell_type": "code",
   "execution_count": 19,
   "metadata": {},
   "outputs": [],
   "source": [
    "#I will replace null values with \"'UG: Any Graduate - Any Specialization'\"\n",
    "data.education.fillna('UG: Any Graduate - Any Specialization',inplace=True)"
   ]
  },
  {
   "cell_type": "code",
   "execution_count": 20,
   "metadata": {},
   "outputs": [],
   "source": [
    "# Here I want to know the most needed Bachelor Degrees by companies\n",
    "# First, replace \"PG\" and \"Doctorate\" with delimiter \"|\" so I can split the value with delimiter. \n",
    "# Then I extract the first value in the list which is Bachelor Degree required for the job\n",
    "data_edu=data.education.apply(lambda x:x.replace(\" PG:\",\"|\")).apply(lambda x:x.replace(\" Doctorate:\",\"|\"))"
   ]
  },
  {
   "cell_type": "code",
   "execution_count": 21,
   "metadata": {},
   "outputs": [],
   "source": [
    "data_edu=data_edu.apply(lambda x:x.split(\"|\"))"
   ]
  },
  {
   "cell_type": "code",
   "execution_count": 22,
   "metadata": {},
   "outputs": [],
   "source": [
    "data_edu=data_edu.apply(lambda x:x[0])"
   ]
  },
  {
   "cell_type": "code",
   "execution_count": 23,
   "metadata": {},
   "outputs": [
    {
     "data": {
      "text/plain": [
       "UG: Any Graduate - Any Specialization                             6962\n",
       "UG: Any Graduate                                                  4055\n",
       "UG: B.Tech/B.E.                                                   4032\n",
       "UG: Any Graduate - Any Specialization, Graduation Not Required    2205\n",
       "UG: B.Tech/B.E. - Any Specialization                               753\n",
       "UG: B.Tech/B.E. - Computers                                        397\n",
       "UG: B.Com                                                          240\n",
       "UG: Diploma                                                        163\n",
       "UG: B.B.A                                                          149\n",
       "UG: B.Com - Commerce                                               148\n",
       "Name: education, dtype: int64"
      ]
     },
     "execution_count": 23,
     "metadata": {},
     "output_type": "execute_result"
    }
   ],
   "source": [
    "data_edu.value_counts()[:10]"
   ]
  },
  {
   "cell_type": "code",
   "execution_count": 24,
   "metadata": {},
   "outputs": [],
   "source": [
    "# From the data extracted above, we see that some data has the same meaning but has different name\n",
    "#so I am going to replace it with the same name\n",
    "data_edu=data_edu.apply(lambda x:x.replace(\"UG: Any Graduate - Any Specialization\",\"UG: Any Graduate\"))\n",
    "data_edu=data_edu.apply(lambda x:x.replace(\"UG: Any Graduate - Any Specialization, Graduation Not Required\",\"UG: Any Graduate\"))\n",
    "data_edu=data_edu.apply(lambda x:x.replace(\"UG: Any Graduate, Graduation Not Required\",\"UG: Any Graduate\"))\n",
    "data_edu=data_edu.apply(lambda x:x.replace(\"B.Tech/B.E. - Any Specialization\",\"UG: B.Tech/B.E.\"))\n",
    "data_edu=data_edu.apply(lambda x:x.replace(\"UG: UG: B.Tech/B.E.\",\"UG: B.Tech/B.E.\"))\n",
    "data_edu=data_edu.apply(lambda x:x.replace(\"UG: Graduation Not Required\",\"UG: Any Graduate\"))\n",
    "data_edu=data_edu.apply(lambda x:x.replace(\"UG: Any Graduate, UG: B.Tech/B.E.\",\"UG: B.Tech/B.E.\"))\n",
    "data_edu=data_edu.apply(lambda x:x.replace(\"UG: B.Tech/B.E., Computers\",\"UG: B.Tech/B.E. - Computers\"))\n",
    "data_edu=data_edu.apply(lambda x:x.replace(\"UG: B.Tech/B.E., Computers\",\"UG: B.Tech/B.E. - Computers\"))\n",
    "data_edu=data_edu.apply(lambda x:x.replace(\"UG: B.Com - Commerce\",\"UG: B.Com\"))\n",
    "data_edu=data_edu.apply(lambda x:x.replace(\"UG: \",\"\"))"
   ]
  },
  {
   "cell_type": "code",
   "execution_count": 25,
   "metadata": {},
   "outputs": [
    {
     "data": {
      "text/html": [
       "<div>\n",
       "<style scoped>\n",
       "    .dataframe tbody tr th:only-of-type {\n",
       "        vertical-align: middle;\n",
       "    }\n",
       "\n",
       "    .dataframe tbody tr th {\n",
       "        vertical-align: top;\n",
       "    }\n",
       "\n",
       "    .dataframe thead th {\n",
       "        text-align: right;\n",
       "    }\n",
       "</style>\n",
       "<table border=\"1\" class=\"dataframe\">\n",
       "  <thead>\n",
       "    <tr style=\"text-align: right;\">\n",
       "      <th></th>\n",
       "      <th>degree</th>\n",
       "    </tr>\n",
       "  </thead>\n",
       "  <tbody>\n",
       "    <tr>\n",
       "      <th>Any Graduate</th>\n",
       "      <td>13354</td>\n",
       "    </tr>\n",
       "    <tr>\n",
       "      <th>B.Tech/B.E.</th>\n",
       "      <td>4947</td>\n",
       "    </tr>\n",
       "    <tr>\n",
       "      <th>B.Tech/B.E. - Computers</th>\n",
       "      <td>483</td>\n",
       "    </tr>\n",
       "    <tr>\n",
       "      <th>B.Com</th>\n",
       "      <td>388</td>\n",
       "    </tr>\n",
       "    <tr>\n",
       "      <th>Diploma</th>\n",
       "      <td>163</td>\n",
       "    </tr>\n",
       "    <tr>\n",
       "      <th>B.B.A</th>\n",
       "      <td>149</td>\n",
       "    </tr>\n",
       "    <tr>\n",
       "      <th>B.Sc</th>\n",
       "      <td>110</td>\n",
       "    </tr>\n",
       "    <tr>\n",
       "      <th>B.A</th>\n",
       "      <td>96</td>\n",
       "    </tr>\n",
       "    <tr>\n",
       "      <th>BCA</th>\n",
       "      <td>82</td>\n",
       "    </tr>\n",
       "    <tr>\n",
       "      <th>B.Ed</th>\n",
       "      <td>62</td>\n",
       "    </tr>\n",
       "  </tbody>\n",
       "</table>\n",
       "</div>"
      ],
      "text/plain": [
       "                         degree\n",
       "Any Graduate              13354\n",
       "B.Tech/B.E.                4947\n",
       "B.Tech/B.E. - Computers     483\n",
       "B.Com                       388\n",
       "Diploma                     163\n",
       "B.B.A                       149\n",
       "B.Sc                        110\n",
       "B.A                          96\n",
       "BCA                          82\n",
       "B.Ed                         62"
      ]
     },
     "execution_count": 25,
     "metadata": {},
     "output_type": "execute_result"
    }
   ],
   "source": [
    "data[\"degree\"]=data_edu\n",
    "top_10_degree=pd.DataFrame(data.degree.value_counts()[:10])\n",
    "top_10_degree"
   ]
  },
  {
   "cell_type": "code",
   "execution_count": 26,
   "metadata": {},
   "outputs": [
    {
     "data": {
      "image/png": "[encoded data removed]",
      "text/plain": [
       "<Figure size 864x576 with 1 Axes>"
      ]
     },
     "metadata": {},
     "output_type": "display_data"
    }
   ],
   "source": [
    "plt.figure(figsize=(12,8))\n",
    "sns.barplot(y=top_10_degree.index,x=top_10_degree.degree,palette='flare')\n",
    "plt.title(\"10 Most In-Demand Degrees in Job Vacancies\",weight='bold',size=18)\n",
    "plt.xticks(size=12,weight='bold')\n",
    "plt.yticks(size=12,weight='bold')\n",
    "plt.show()"
   ]
  },
  {
   "cell_type": "markdown",
   "metadata": {},
   "source": [
    "From the chart above, we see that most jobs available require degree in any graduate/spesialization. These jobs may not need specific spesialization so they are open to any degree. While for jobs with specific spesialization, most needed bachelor degrees are Bachelor of Technology, Bachelor of Engineering, and Bachelor of Commerce."
   ]
  },
  {
   "cell_type": "markdown",
   "metadata": {},
   "source": [
    "## Cleaning and Analysing Column Industry ##"
   ]
  },
  {
   "cell_type": "code",
   "execution_count": 27,
   "metadata": {},
   "outputs": [
    {
     "data": {
      "text/plain": [
       "5"
      ]
     },
     "execution_count": 27,
     "metadata": {},
     "output_type": "execute_result"
    }
   ],
   "source": [
    "# Check the number of null values in column industy\n",
    "data.industry.isnull().sum()"
   ]
  },
  {
   "cell_type": "code",
   "execution_count": 28,
   "metadata": {},
   "outputs": [
    {
     "data": {
      "text/html": [
       "<div>\n",
       "<style scoped>\n",
       "    .dataframe tbody tr th:only-of-type {\n",
       "        vertical-align: middle;\n",
       "    }\n",
       "\n",
       "    .dataframe tbody tr th {\n",
       "        vertical-align: top;\n",
       "    }\n",
       "\n",
       "    .dataframe thead th {\n",
       "        text-align: right;\n",
       "    }\n",
       "</style>\n",
       "<table border=\"1\" class=\"dataframe\">\n",
       "  <thead>\n",
       "    <tr style=\"text-align: right;\">\n",
       "      <th></th>\n",
       "      <th>company</th>\n",
       "      <th>education</th>\n",
       "      <th>experience</th>\n",
       "      <th>industry</th>\n",
       "      <th>joblocation_address</th>\n",
       "      <th>numberofpositions</th>\n",
       "      <th>payrate</th>\n",
       "      <th>skills</th>\n",
       "      <th>min_year_exp</th>\n",
       "      <th>max_year_exp</th>\n",
       "      <th>degree</th>\n",
       "    </tr>\n",
       "  </thead>\n",
       "  <tbody>\n",
       "    <tr>\n",
       "      <th>3768</th>\n",
       "      <td>NaN</td>\n",
       "      <td>UG: Any Graduate - Any Specialization</td>\n",
       "      <td>2 - 7 yrs</td>\n",
       "      <td>NaN</td>\n",
       "      <td>NaN</td>\n",
       "      <td>NaN</td>\n",
       "      <td>NaN</td>\n",
       "      <td>NaN</td>\n",
       "      <td>2</td>\n",
       "      <td>7</td>\n",
       "      <td>Any Graduate</td>\n",
       "    </tr>\n",
       "    <tr>\n",
       "      <th>4026</th>\n",
       "      <td>NaN</td>\n",
       "      <td>UG: Any Graduate - Any Specialization</td>\n",
       "      <td>2 - 7 yrs</td>\n",
       "      <td>NaN</td>\n",
       "      <td>NaN</td>\n",
       "      <td>NaN</td>\n",
       "      <td>NaN</td>\n",
       "      <td>NaN</td>\n",
       "      <td>2</td>\n",
       "      <td>7</td>\n",
       "      <td>Any Graduate</td>\n",
       "    </tr>\n",
       "    <tr>\n",
       "      <th>4389</th>\n",
       "      <td>NaN</td>\n",
       "      <td>UG: Any Graduate - Any Specialization</td>\n",
       "      <td>2 - 7 yrs</td>\n",
       "      <td>NaN</td>\n",
       "      <td>NaN</td>\n",
       "      <td>NaN</td>\n",
       "      <td>NaN</td>\n",
       "      <td>NaN</td>\n",
       "      <td>2</td>\n",
       "      <td>7</td>\n",
       "      <td>Any Graduate</td>\n",
       "    </tr>\n",
       "    <tr>\n",
       "      <th>4841</th>\n",
       "      <td>NaN</td>\n",
       "      <td>UG: Any Graduate - Any Specialization</td>\n",
       "      <td>2 - 7 yrs</td>\n",
       "      <td>NaN</td>\n",
       "      <td>NaN</td>\n",
       "      <td>NaN</td>\n",
       "      <td>NaN</td>\n",
       "      <td>NaN</td>\n",
       "      <td>2</td>\n",
       "      <td>7</td>\n",
       "      <td>Any Graduate</td>\n",
       "    </tr>\n",
       "    <tr>\n",
       "      <th>18578</th>\n",
       "      <td>RBS India Development Centre (P) Ltd.</td>\n",
       "      <td>UG: Any Graduate - Any Specialization</td>\n",
       "      <td>2 - 5 yrs</td>\n",
       "      <td>NaN</td>\n",
       "      <td>Gurgaon , haryana</td>\n",
       "      <td>NaN</td>\n",
       "      <td>NaN</td>\n",
       "      <td>NaN</td>\n",
       "      <td>2</td>\n",
       "      <td>5</td>\n",
       "      <td>Any Graduate</td>\n",
       "    </tr>\n",
       "  </tbody>\n",
       "</table>\n",
       "</div>"
      ],
      "text/plain": [
       "                                     company  \\\n",
       "3768                                     NaN   \n",
       "4026                                     NaN   \n",
       "4389                                     NaN   \n",
       "4841                                     NaN   \n",
       "18578  RBS India Development Centre (P) Ltd.   \n",
       "\n",
       "                                   education experience industry  \\\n",
       "3768   UG: Any Graduate - Any Specialization  2 - 7 yrs      NaN   \n",
       "4026   UG: Any Graduate - Any Specialization  2 - 7 yrs      NaN   \n",
       "4389   UG: Any Graduate - Any Specialization  2 - 7 yrs      NaN   \n",
       "4841   UG: Any Graduate - Any Specialization  2 - 7 yrs      NaN   \n",
       "18578  UG: Any Graduate - Any Specialization  2 - 5 yrs      NaN   \n",
       "\n",
       "      joblocation_address  numberofpositions payrate skills  min_year_exp  \\\n",
       "3768                  NaN                NaN     NaN    NaN             2   \n",
       "4026                  NaN                NaN     NaN    NaN             2   \n",
       "4389                  NaN                NaN     NaN    NaN             2   \n",
       "4841                  NaN                NaN     NaN    NaN             2   \n",
       "18578   Gurgaon , haryana                NaN     NaN    NaN             2   \n",
       "\n",
       "       max_year_exp        degree  \n",
       "3768              7  Any Graduate  \n",
       "4026              7  Any Graduate  \n",
       "4389              7  Any Graduate  \n",
       "4841              7  Any Graduate  \n",
       "18578             5  Any Graduate  "
      ]
     },
     "execution_count": 28,
     "metadata": {},
     "output_type": "execute_result"
    }
   ],
   "source": [
    "data[data.industry.isnull()]"
   ]
  },
  {
   "cell_type": "code",
   "execution_count": 29,
   "metadata": {},
   "outputs": [
    {
     "data": {
      "text/plain": [
       "0"
      ]
     },
     "execution_count": 29,
     "metadata": {},
     "output_type": "execute_result"
    }
   ],
   "source": [
    "# We will fill the nan values in column industry with the mode\n",
    "data.industry.fillna(data.industry.mode()[0],inplace=True)\n",
    "data.industry.isnull().sum()"
   ]
  },
  {
   "cell_type": "code",
   "execution_count": 30,
   "metadata": {},
   "outputs": [
    {
     "data": {
      "text/html": [
       "<style  type=\"text/css\" >\n",
       "#T_14f52adc_e935_11eb_a18e_70c94e3d640erow0_col0{\n",
       "            background-color:  #000000;\n",
       "            color:  #f1f1f1;\n",
       "        }#T_14f52adc_e935_11eb_a18e_70c94e3d640erow1_col0{\n",
       "            background-color:  #f1f1f1;\n",
       "            color:  #000000;\n",
       "        }#T_14f52adc_e935_11eb_a18e_70c94e3d640erow2_col0,#T_14f52adc_e935_11eb_a18e_70c94e3d640erow3_col0{\n",
       "            background-color:  #f2f2f2;\n",
       "            color:  #000000;\n",
       "        }#T_14f52adc_e935_11eb_a18e_70c94e3d640erow4_col0{\n",
       "            background-color:  #f4f4f4;\n",
       "            color:  #000000;\n",
       "        }#T_14f52adc_e935_11eb_a18e_70c94e3d640erow5_col0{\n",
       "            background-color:  #f9f9f9;\n",
       "            color:  #000000;\n",
       "        }#T_14f52adc_e935_11eb_a18e_70c94e3d640erow6_col0,#T_14f52adc_e935_11eb_a18e_70c94e3d640erow7_col0{\n",
       "            background-color:  #fcfcfc;\n",
       "            color:  #000000;\n",
       "        }#T_14f52adc_e935_11eb_a18e_70c94e3d640erow8_col0,#T_14f52adc_e935_11eb_a18e_70c94e3d640erow9_col0{\n",
       "            background-color:  #fdfdfd;\n",
       "            color:  #000000;\n",
       "        }#T_14f52adc_e935_11eb_a18e_70c94e3d640erow10_col0,#T_14f52adc_e935_11eb_a18e_70c94e3d640erow11_col0{\n",
       "            background-color:  #fefefe;\n",
       "            color:  #000000;\n",
       "        }#T_14f52adc_e935_11eb_a18e_70c94e3d640erow12_col0,#T_14f52adc_e935_11eb_a18e_70c94e3d640erow13_col0,#T_14f52adc_e935_11eb_a18e_70c94e3d640erow14_col0{\n",
       "            background-color:  #ffffff;\n",
       "            color:  #000000;\n",
       "        }</style><table id=\"T_14f52adc_e935_11eb_a18e_70c94e3d640e\" ><thead>    <tr>        <th class=\"blank level0\" ></th>        <th class=\"col_heading level0 col0\" >industry</th>    </tr></thead><tbody>\n",
       "                <tr>\n",
       "                        <th id=\"T_14f52adc_e935_11eb_a18e_70c94e3d640elevel0_row0\" class=\"row_heading level0 row0\" >IT-Software / Software Services</th>\n",
       "                        <td id=\"T_14f52adc_e935_11eb_a18e_70c94e3d640erow0_col0\" class=\"data row0 col0\" >9221</td>\n",
       "            </tr>\n",
       "            <tr>\n",
       "                        <th id=\"T_14f52adc_e935_11eb_a18e_70c94e3d640elevel0_row1\" class=\"row_heading level0 row1\" >Education / Teaching / Training</th>\n",
       "                        <td id=\"T_14f52adc_e935_11eb_a18e_70c94e3d640erow1_col0\" class=\"data row1 col0\" >1322</td>\n",
       "            </tr>\n",
       "            <tr>\n",
       "                        <th id=\"T_14f52adc_e935_11eb_a18e_70c94e3d640elevel0_row2\" class=\"row_heading level0 row2\" >BPO / Call Centre / ITES</th>\n",
       "                        <td id=\"T_14f52adc_e935_11eb_a18e_70c94e3d640erow2_col0\" class=\"data row2 col0\" >1254</td>\n",
       "            </tr>\n",
       "            <tr>\n",
       "                        <th id=\"T_14f52adc_e935_11eb_a18e_70c94e3d640elevel0_row3\" class=\"row_heading level0 row3\" >Banking / Financial Services / Broking</th>\n",
       "                        <td id=\"T_14f52adc_e935_11eb_a18e_70c94e3d640erow3_col0\" class=\"data row3 col0\" >1238</td>\n",
       "            </tr>\n",
       "            <tr>\n",
       "                        <th id=\"T_14f52adc_e935_11eb_a18e_70c94e3d640elevel0_row4\" class=\"row_heading level0 row4\" >Recruitment / Staffing</th>\n",
       "                        <td id=\"T_14f52adc_e935_11eb_a18e_70c94e3d640erow4_col0\" class=\"data row4 col0\" >1129</td>\n",
       "            </tr>\n",
       "            <tr>\n",
       "                        <th id=\"T_14f52adc_e935_11eb_a18e_70c94e3d640elevel0_row5\" class=\"row_heading level0 row5\" >Internet / Ecommerce</th>\n",
       "                        <td id=\"T_14f52adc_e935_11eb_a18e_70c94e3d640erow5_col0\" class=\"data row5 col0\" >738</td>\n",
       "            </tr>\n",
       "            <tr>\n",
       "                        <th id=\"T_14f52adc_e935_11eb_a18e_70c94e3d640elevel0_row6\" class=\"row_heading level0 row6\" >Pharma / Biotech / Clinical Research</th>\n",
       "                        <td id=\"T_14f52adc_e935_11eb_a18e_70c94e3d640erow6_col0\" class=\"data row6 col0\" >525</td>\n",
       "            </tr>\n",
       "            <tr>\n",
       "                        <th id=\"T_14f52adc_e935_11eb_a18e_70c94e3d640elevel0_row7\" class=\"row_heading level0 row7\" >Medical / Healthcare / Hospitals</th>\n",
       "                        <td id=\"T_14f52adc_e935_11eb_a18e_70c94e3d640erow7_col0\" class=\"data row7 col0\" >495</td>\n",
       "            </tr>\n",
       "            <tr>\n",
       "                        <th id=\"T_14f52adc_e935_11eb_a18e_70c94e3d640elevel0_row8\" class=\"row_heading level0 row8\" >Automobile / Auto Anciliary / Auto Components</th>\n",
       "                        <td id=\"T_14f52adc_e935_11eb_a18e_70c94e3d640erow8_col0\" class=\"data row8 col0\" >478</td>\n",
       "            </tr>\n",
       "            <tr>\n",
       "                        <th id=\"T_14f52adc_e935_11eb_a18e_70c94e3d640elevel0_row9\" class=\"row_heading level0 row9\" >Construction / Engineering / Cement / Metals</th>\n",
       "                        <td id=\"T_14f52adc_e935_11eb_a18e_70c94e3d640erow9_col0\" class=\"data row9 col0\" >449</td>\n",
       "            </tr>\n",
       "            <tr>\n",
       "                        <th id=\"T_14f52adc_e935_11eb_a18e_70c94e3d640elevel0_row10\" class=\"row_heading level0 row10\" >Travel / Hotels / Restaurants / Airlines / Railways</th>\n",
       "                        <td id=\"T_14f52adc_e935_11eb_a18e_70c94e3d640erow10_col0\" class=\"data row10 col0\" >369</td>\n",
       "            </tr>\n",
       "            <tr>\n",
       "                        <th id=\"T_14f52adc_e935_11eb_a18e_70c94e3d640elevel0_row11\" class=\"row_heading level0 row11\" >Strategy / Management Consulting Firms</th>\n",
       "                        <td id=\"T_14f52adc_e935_11eb_a18e_70c94e3d640erow11_col0\" class=\"data row11 col0\" >356</td>\n",
       "            </tr>\n",
       "            <tr>\n",
       "                        <th id=\"T_14f52adc_e935_11eb_a18e_70c94e3d640elevel0_row12\" class=\"row_heading level0 row12\" >Other</th>\n",
       "                        <td id=\"T_14f52adc_e935_11eb_a18e_70c94e3d640erow12_col0\" class=\"data row12 col0\" >339</td>\n",
       "            </tr>\n",
       "            <tr>\n",
       "                        <th id=\"T_14f52adc_e935_11eb_a18e_70c94e3d640elevel0_row13\" class=\"row_heading level0 row13\" >Industrial Products / Heavy Machinery</th>\n",
       "                        <td id=\"T_14f52adc_e935_11eb_a18e_70c94e3d640erow13_col0\" class=\"data row13 col0\" >307</td>\n",
       "            </tr>\n",
       "            <tr>\n",
       "                        <th id=\"T_14f52adc_e935_11eb_a18e_70c94e3d640elevel0_row14\" class=\"row_heading level0 row14\" >Media / Entertainment / Internet</th>\n",
       "                        <td id=\"T_14f52adc_e935_11eb_a18e_70c94e3d640erow14_col0\" class=\"data row14 col0\" >275</td>\n",
       "            </tr>\n",
       "    </tbody></table>"
      ],
      "text/plain": [
       "<pandas.io.formats.style.Styler at 0x20594925eb0>"
      ]
     },
     "metadata": {},
     "output_type": "display_data"
    }
   ],
   "source": [
    "# Here we are going to display the 15 most popular industries in Job Vacancies\n",
    "display(pd.DataFrame(data.industry.value_counts()[:15]).style.background_gradient(cmap=\"Greys\"))"
   ]
  },
  {
   "cell_type": "markdown",
   "metadata": {},
   "source": [
    "With more than 9000 jobs available, we can see how popular indusrty in Technology is. The number is significantly higher than any other industries, which atmost only reach 1322. The second most popular industry is Education / Teaching / Training and followed by BPO / Call Centre / ITES."
   ]
  },
  {
   "cell_type": "markdown",
   "metadata": {},
   "source": [
    "## Cleaning and Analysing Column Job Address ##"
   ]
  },
  {
   "cell_type": "code",
   "execution_count": 31,
   "metadata": {},
   "outputs": [
    {
     "data": {
      "text/plain": [
       "0                                              Chennai\n",
       "1                                              Chennai\n",
       "2                                            Bengaluru\n",
       "3    Mumbai, Bengaluru, Kolkata, Chennai, Coimbator...\n",
       "4                                            Bengaluru\n",
       "Name: joblocation_address, dtype: object"
      ]
     },
     "execution_count": 31,
     "metadata": {},
     "output_type": "execute_result"
    }
   ],
   "source": [
    "data.joblocation_address.head()"
   ]
  },
  {
   "cell_type": "code",
   "execution_count": 32,
   "metadata": {},
   "outputs": [
    {
     "data": {
      "text/plain": [
       "Bengaluru/Bangalore         3775\n",
       "Mumbai                      2348\n",
       "Bengaluru                   1453\n",
       "Hyderabad / Secunderabad    1246\n",
       "Chennai                     1204\n",
       "Name: joblocation_address, dtype: int64"
      ]
     },
     "execution_count": 32,
     "metadata": {},
     "output_type": "execute_result"
    }
   ],
   "source": [
    "data.joblocation_address.value_counts()[:5]"
   ]
  },
  {
   "cell_type": "code",
   "execution_count": 33,
   "metadata": {},
   "outputs": [
    {
     "data": {
      "text/plain": [
       "501"
      ]
     },
     "execution_count": 33,
     "metadata": {},
     "output_type": "execute_result"
    }
   ],
   "source": [
    "data.joblocation_address.isnull().sum()"
   ]
  },
  {
   "cell_type": "code",
   "execution_count": 34,
   "metadata": {},
   "outputs": [],
   "source": [
    "# I am going to fill the nan values with \"Not Mentioned\". \n",
    "# The reason why I dont replace it with mode is because the number of null values is pretty high and it can be diverse\n",
    "# I dont want this to affet the point of our analysis\n",
    "data.joblocation_address.fillna('Not Mentioned',inplace=True)"
   ]
  },
  {
   "cell_type": "code",
   "execution_count": 35,
   "metadata": {},
   "outputs": [],
   "source": [
    "# There are some addresses that have the same meaning but different name, \"Bengalore\" and \"Bengaluru\" \n",
    "# So we are going to fix it\n",
    "data['loc']=data.joblocation_address\n",
    "data['loc']=data['loc'].apply(lambda x:x.replace(\"Bengaluru/Bangalore\",\"Bengaluru\"))\n",
    "data['loc']=data['loc'].apply(lambda x:x.replace(\"Bangalore\",\"Bengaluru\"))\n",
    "data['loc']=data['loc'].apply(lambda x:x.replace(\"Bengaluru/Bangalore , Bengaluru / Bangalore\",\"Bengaluru\"))\n",
    "data['loc']=data['loc'].apply(lambda x:x.replace(\"Mumbai , Mumbai\",\"Mumbai\"))\n",
    "data['loc']=data['loc'].apply(lambda x:x.replace(\"Delhi , Delhi\",\"Delhi\"))\n",
    "data['loc']=data['loc'].apply(lambda x:x.replace(\"Delhi/NCR(National Capital Region)\",\"Delhi\"))\n",
    "data['loc']=data['loc'].apply(lambda x:x.replace(\"Delhi/NCR(National Capital Region)\",\"Delhi\"))\n",
    "data['loc']=data['loc'].apply(lambda x:x.replace(\"Noida , Noida/Greater Noida\",\"Noida\"))\n",
    "data['loc']=data['loc'].apply(lambda x:x.replace(\"Gurgaon , Gurgaon\",\"Gurgaon\"))\n",
    "data['loc']=data['loc'].apply(lambda x:x.replace(\"Bengaluru , Bengaluru / Bangalore\",\"Bengaluru\"))\n",
    "data['loc']=data['loc'].apply(lambda x:x.replace(\"Hyderabad / Secunderabad , Hyderabad/Secunderabad\",\"Hyderabad / Secunderabad\"))\n",
    "data['loc']=data['loc'].apply(lambda x:x.replace(\"Hyderabad / Secunderabad\",\"Hyderabad\"))\n",
    "data['loc']=data['loc'].apply(lambda x:x.replace(\"Delhi NCR\",\"Delhi\"))\n",
    "data['loc']=data['loc'].apply(lambda x:x.replace(\"Bengaluru / Bangalore\",\"Bengaluru\"))\n",
    "data['loc']=data['loc'].apply(lambda x:x.replace(\"Delhi/NCR\",\"Delhi\"))\n",
    "data['loc']=data['loc'].apply(lambda x:x.replace(\"Greater Noida\",\"Noida\"))\n",
    "data['loc']=data['loc'].apply(lambda x:x.replace(\"Greater Noida\",\"Noida\"))\n",
    "data['loc']=data['loc'].apply(lambda x:x.replace('Noida/Noida',\"Noida\"))\n",
    "data['loc']=data['loc'].apply(lambda x:x.replace(\"mumbai\",\"Mumbai\"))\n",
    "data['loc']=data['loc'].apply(lambda x:x.replace(\"Hyderabad/Secunderabad\",\"Hyderabad\"))\n",
    "data['loc']=data['loc'].apply(lambda x:x.replace(\"Bengaluru / Bengaluru\",\"Bengaluru\"))"
   ]
  },
  {
   "cell_type": "code",
   "execution_count": 36,
   "metadata": {},
   "outputs": [
    {
     "data": {
      "text/plain": [
       "0                                                [Chennai]\n",
       "1                                                [Chennai]\n",
       "2                                              [Bengaluru]\n",
       "3        [Mumbai, Bengaluru, Kolkata, Chennai, Coimbato...\n",
       "4                                              [Bengaluru]\n",
       "                               ...                        \n",
       "21995                                          [Bengaluru]\n",
       "21996                                 [Bengaluru, Gurgaon]\n",
       "21997                                          [Bengaluru]\n",
       "21998                                   [Delhi, Bengaluru]\n",
       "21999                                          [Bengaluru]\n",
       "Name: loc, Length: 22000, dtype: object"
      ]
     },
     "execution_count": 36,
     "metadata": {},
     "output_type": "execute_result"
    }
   ],
   "source": [
    "# We see that there are some jobs that available in more than 1 location\n",
    "# So before doing visualization, we we want to split the value in this column \n",
    "address=[]\n",
    "data['loc']=data['loc'].apply(lambda x:x.replace(\" , \",\", \"))\n",
    "data['loc']=data['loc'].apply(lambda x:x.split(\", \"))\n",
    "data['loc']"
   ]
  },
  {
   "cell_type": "code",
   "execution_count": 37,
   "metadata": {},
   "outputs": [
    {
     "data": {
      "image/png": "[encoded data removed]",
      "text/plain": [
       "<Figure size 864x576 with 1 Axes>"
      ]
     },
     "metadata": {},
     "output_type": "display_data"
    }
   ],
   "source": [
    "# Next we are going to extract each location in each row with function explode\n",
    "x=data['loc'].explode()\n",
    "top_15_location=pd.DataFrame(x.value_counts()[:15])\n",
    "top_15_location.columns=[\"Count\"]\n",
    "\n",
    "plt.figure(figsize=(12,8))\n",
    "sns.barplot(y=top_15_location.index,x=top_15_location.Count,palette=\"icefire\")\n",
    "plt.title(\"15 Cities with Highest Job Opportunities in India\",weight='bold', size=18)\n",
    "plt.xticks(size=12,weight='bold')\n",
    "plt.yticks(size=12,weight='bold')\n",
    "plt.show()"
   ]
  },
  {
   "cell_type": "markdown",
   "metadata": {},
   "source": [
    "From the result above, we see that Bengaluru is the city with highest job opportunites in India, followed by Mumbai, Hyderabad, and Delhi. The result is not surprising considering those cities are the most populated cities in India."
   ]
  },
  {
   "cell_type": "markdown",
   "metadata": {},
   "source": [
    "## Cleaning and Analysing Column Number of Positions ##"
   ]
  },
  {
   "cell_type": "code",
   "execution_count": 38,
   "metadata": {},
   "outputs": [
    {
     "data": {
      "text/plain": [
       "1.0      1108\n",
       "2.0       777\n",
       "5.0       378\n",
       "10.0      375\n",
       "3.0       325\n",
       "         ... \n",
       "78.0        1\n",
       "41.0        1\n",
       "125.0       1\n",
       "126.0       1\n",
       "23.0        1\n",
       "Name: numberofpositions, Length: 84, dtype: int64"
      ]
     },
     "execution_count": 38,
     "metadata": {},
     "output_type": "execute_result"
    }
   ],
   "source": [
    "data.numberofpositions.value_counts()"
   ]
  },
  {
   "cell_type": "code",
   "execution_count": 39,
   "metadata": {},
   "outputs": [
    {
     "data": {
      "text/plain": [
       "17536"
      ]
     },
     "execution_count": 39,
     "metadata": {},
     "output_type": "execute_result"
    }
   ],
   "source": [
    "# Check the number of null values\n",
    "data.numberofpositions.isnull().sum()"
   ]
  },
  {
   "cell_type": "code",
   "execution_count": 40,
   "metadata": {},
   "outputs": [
    {
     "data": {
      "text/plain": [
       "0         1\n",
       "1        60\n",
       "2         1\n",
       "3         1\n",
       "4         4\n",
       "         ..\n",
       "21995     2\n",
       "21996     1\n",
       "21997     1\n",
       "21998     1\n",
       "21999     1\n",
       "Name: numberofpositions, Length: 22000, dtype: int32"
      ]
     },
     "execution_count": 40,
     "metadata": {},
     "output_type": "execute_result"
    }
   ],
   "source": [
    "# It appears that there are so many null values in this columns. This may be because only 1 job available for the position. \n",
    "# So we are going to fill null values with 1\n",
    "\n",
    "data.numberofpositions.fillna(1,inplace=True)\n",
    "data.numberofpositions=data.numberofpositions.astype(int)\n",
    "data.numberofpositions"
   ]
  },
  {
   "cell_type": "code",
   "execution_count": 41,
   "metadata": {
    "scrolled": true
   },
   "outputs": [],
   "source": [
    "number_of_position=pd.DataFrame(data.numberofpositions)\n",
    "number_of_position.numberofpositions=np.where((number_of_position.numberofpositions>=10) & (number_of_position.numberofpositions<50),49,number_of_position.numberofpositions)# Here I am temporary replace value in range [10,49] with 49, later I will replace it with \"[10,49]\"\n",
    "number_of_position.numberofpositions=np.where((number_of_position.numberofpositions>=50) & (number_of_position.numberofpositions<100),99,number_of_position.numberofpositions)# Here I am temporary replace value in range [50,99] with 99, later I will replace it with \"[50,99]\"\n",
    "number_of_position.numberofpositions=np.where((number_of_position.numberofpositions>=100) & (number_of_position.numberofpositions<1000),101,number_of_position.numberofpositions) # Here I am temporary replace value in range [100,999] with 101, later I will replace it with \"[100-999]\"\n",
    "number_of_position.numberofpositions=np.where((number_of_position.numberofpositions>1000) | (number_of_position.numberofpositions==1000),1000,number_of_position.numberofpositions)# Here I am temporary replace value >=1000 with 1000, later I will replace it with \"[1000,]\"\n",
    "number_of_position.numberofpositions=number_of_position.numberofpositions.astype(int)\n",
    "number_of_position.numberofpositions=number_of_position.numberofpositions.apply(lambda x:str(x).replace(\"49\",\"[10,49]\"))\n",
    "number_of_position.numberofpositions=number_of_position.numberofpositions.apply(lambda x:x.replace(\"99\",\"[50,99]\"))\n",
    "number_of_position.numberofpositions=number_of_position.numberofpositions.apply(lambda x:x.replace(\"101\",\"[100,999]\"))\n",
    "number_of_position.numberofpositions=number_of_position.numberofpositions.apply(lambda x:x.replace(\"1000\",\"[1000,]\"))"
   ]
  },
  {
   "cell_type": "code",
   "execution_count": 42,
   "metadata": {},
   "outputs": [
    {
     "data": {
      "image/png": "[encoded data removed]",
      "text/plain": [
       "<Figure size 864x576 with 1 Axes>"
      ]
     },
     "metadata": {},
     "output_type": "display_data"
    }
   ],
   "source": [
    "plt.figure(figsize=(12,8))\n",
    "number_of_position.numberofpositions.value_counts().plot(kind='bar',color='lightcoral')\n",
    "plt.xticks(rotation=360,size=12,weight='bold')\n",
    "plt.yticks(size=12,weight='bold')\n",
    "plt.title(\"Distribution of Number of Positions in Job Vacancies\",size=18,weight='bold')\n",
    "plt.show()"
   ]
  },
  {
   "cell_type": "markdown",
   "metadata": {},
   "source": [
    "From the graph above, we see that the majority of job vacancies only open for 1 position. But there is uncertainty about this number because we fiiled over than 17500 missing values with 1."
   ]
  },
  {
   "cell_type": "markdown",
   "metadata": {},
   "source": [
    "## Cleaning and Analysing Column Skills ##"
   ]
  },
  {
   "cell_type": "code",
   "execution_count": 43,
   "metadata": {},
   "outputs": [
    {
     "data": {
      "text/plain": [
       "IT Software - Application Programming    5989\n",
       "Sales                                    2893\n",
       "ITES                                     1640\n",
       "Teaching                                 1091\n",
       "HR                                        928\n",
       "Marketing                                 868\n",
       "Accounts                                  860\n",
       "Production                                667\n",
       "Medical                                   418\n",
       "Financial Services                        413\n",
       "Name: skills, dtype: int64"
      ]
     },
     "execution_count": 43,
     "metadata": {},
     "output_type": "execute_result"
    }
   ],
   "source": [
    "data.skills.value_counts()[:10]"
   ]
  },
  {
   "cell_type": "code",
   "execution_count": 44,
   "metadata": {},
   "outputs": [
    {
     "data": {
      "text/plain": [
       "528"
      ]
     },
     "execution_count": 44,
     "metadata": {},
     "output_type": "execute_result"
    }
   ],
   "source": [
    "data.skills.isnull().sum()"
   ]
  },
  {
   "cell_type": "code",
   "execution_count": 45,
   "metadata": {},
   "outputs": [
    {
     "data": {
      "text/html": [
       "<div>\n",
       "<style scoped>\n",
       "    .dataframe tbody tr th:only-of-type {\n",
       "        vertical-align: middle;\n",
       "    }\n",
       "\n",
       "    .dataframe tbody tr th {\n",
       "        vertical-align: top;\n",
       "    }\n",
       "\n",
       "    .dataframe thead th {\n",
       "        text-align: right;\n",
       "    }\n",
       "</style>\n",
       "<table border=\"1\" class=\"dataframe\">\n",
       "  <thead>\n",
       "    <tr style=\"text-align: right;\">\n",
       "      <th></th>\n",
       "      <th>company</th>\n",
       "      <th>education</th>\n",
       "      <th>experience</th>\n",
       "      <th>industry</th>\n",
       "      <th>joblocation_address</th>\n",
       "      <th>numberofpositions</th>\n",
       "      <th>payrate</th>\n",
       "      <th>skills</th>\n",
       "      <th>min_year_exp</th>\n",
       "      <th>max_year_exp</th>\n",
       "      <th>degree</th>\n",
       "      <th>loc</th>\n",
       "    </tr>\n",
       "  </thead>\n",
       "  <tbody>\n",
       "    <tr>\n",
       "      <th>68</th>\n",
       "      <td>Manipal-City &amp; Guilds (MCG)</td>\n",
       "      <td>UG: Any Graduate PG:Post Graduation Not Requir...</td>\n",
       "      <td>2 - 5 yrs</td>\n",
       "      <td>Education / Teaching / Training</td>\n",
       "      <td>Bengaluru</td>\n",
       "      <td>1</td>\n",
       "      <td>Not Disclosed by Recruiter</td>\n",
       "      <td>NaN</td>\n",
       "      <td>2</td>\n",
       "      <td>5</td>\n",
       "      <td>Any Graduate</td>\n",
       "      <td>[Bengaluru]</td>\n",
       "    </tr>\n",
       "    <tr>\n",
       "      <th>128</th>\n",
       "      <td>Delight HR Services Pvt Ltd.</td>\n",
       "      <td>UG: Any Graduate - Any Specialization PG:Post ...</td>\n",
       "      <td>2 - 5 yrs</td>\n",
       "      <td>Other</td>\n",
       "      <td>Bengaluru</td>\n",
       "      <td>1</td>\n",
       "      <td>2,50,000 - 3,50,000 P.A</td>\n",
       "      <td>NaN</td>\n",
       "      <td>2</td>\n",
       "      <td>5</td>\n",
       "      <td>Any Graduate</td>\n",
       "      <td>[Bengaluru]</td>\n",
       "    </tr>\n",
       "    <tr>\n",
       "      <th>176</th>\n",
       "      <td>Synophic Systems Inc</td>\n",
       "      <td>UG: B.Tech/B.E. - Any Specialization, B.Sc - A...</td>\n",
       "      <td>7 - 12 yrs</td>\n",
       "      <td>Telecom/ISP</td>\n",
       "      <td>Bengaluru</td>\n",
       "      <td>1</td>\n",
       "      <td>6,50,000 - 13,00,000 P.A. Negotiable</td>\n",
       "      <td>NaN</td>\n",
       "      <td>7</td>\n",
       "      <td>12</td>\n",
       "      <td>B.Tech/B.E., B.Sc - Any Specialization, BCA - ...</td>\n",
       "      <td>[Bengaluru]</td>\n",
       "    </tr>\n",
       "    <tr>\n",
       "      <th>182</th>\n",
       "      <td>Crystal Hiring Pvt. Ltd.</td>\n",
       "      <td>UG: Any Graduate - Any Specialization</td>\n",
       "      <td>7 - 12 yrs</td>\n",
       "      <td>IT-Software / Software Services</td>\n",
       "      <td>Mumbai, Bengaluru</td>\n",
       "      <td>1</td>\n",
       "      <td>6,00,000 - 12,00,000 P.A</td>\n",
       "      <td>NaN</td>\n",
       "      <td>7</td>\n",
       "      <td>12</td>\n",
       "      <td>Any Graduate</td>\n",
       "      <td>[Mumbai, Bengaluru]</td>\n",
       "    </tr>\n",
       "    <tr>\n",
       "      <th>206</th>\n",
       "      <td>Amogh Software Solutions Pvt Ltd hiring for Le...</td>\n",
       "      <td>UG: Any Graduate - Any Specialization</td>\n",
       "      <td>3 - 7 yrs</td>\n",
       "      <td>Banking / Financial Services / Broking</td>\n",
       "      <td>Bengaluru</td>\n",
       "      <td>1</td>\n",
       "      <td>Not Disclosed by Recruiter</td>\n",
       "      <td>NaN</td>\n",
       "      <td>3</td>\n",
       "      <td>7</td>\n",
       "      <td>Any Graduate</td>\n",
       "      <td>[Bengaluru]</td>\n",
       "    </tr>\n",
       "    <tr>\n",
       "      <th>228</th>\n",
       "      <td>Confident Group</td>\n",
       "      <td>UG: Any Graduate - Any Specialization</td>\n",
       "      <td>0 - 5 yrs</td>\n",
       "      <td>Real Estate / Property</td>\n",
       "      <td>Bengaluru</td>\n",
       "      <td>2</td>\n",
       "      <td>Not Disclosed by Recruiter</td>\n",
       "      <td>NaN</td>\n",
       "      <td>0</td>\n",
       "      <td>5</td>\n",
       "      <td>Any Graduate</td>\n",
       "      <td>[Bengaluru]</td>\n",
       "    </tr>\n",
       "    <tr>\n",
       "      <th>303</th>\n",
       "      <td>Ashish Interbuild Pvt. Ltd.</td>\n",
       "      <td>UG: B.Tech/B.E. - Any Specialization, Civil, D...</td>\n",
       "      <td>4 - 8 yrs</td>\n",
       "      <td>Architecture / Interior Design</td>\n",
       "      <td>Mumbai, Bengaluru, Hyderabad</td>\n",
       "      <td>10</td>\n",
       "      <td>4,00,000 - 6,00,000 P.A. Depends on Experience</td>\n",
       "      <td>NaN</td>\n",
       "      <td>4</td>\n",
       "      <td>8</td>\n",
       "      <td>B.Tech/B.E., Civil, Diploma - Any Specializati...</td>\n",
       "      <td>[Mumbai, Bengaluru, Hyderabad]</td>\n",
       "    </tr>\n",
       "    <tr>\n",
       "      <th>376</th>\n",
       "      <td>Frankfinn Institute of Air Hostess Training</td>\n",
       "      <td>UG: Any Graduate - Any Specialization</td>\n",
       "      <td>2 - 5 yrs</td>\n",
       "      <td>Education / Teaching / Training</td>\n",
       "      <td>Bengaluru, Delhi</td>\n",
       "      <td>1</td>\n",
       "      <td>2,00,000 - 3,00,000 P.A</td>\n",
       "      <td>NaN</td>\n",
       "      <td>2</td>\n",
       "      <td>5</td>\n",
       "      <td>Any Graduate</td>\n",
       "      <td>[Bengaluru, Delhi]</td>\n",
       "    </tr>\n",
       "    <tr>\n",
       "      <th>422</th>\n",
       "      <td>Global Career Academy hiring for Office assistant</td>\n",
       "      <td>UG: Any Graduate - Any Specialization, Diploma...</td>\n",
       "      <td>0 - 5 yrs</td>\n",
       "      <td>Education / Teaching / Training</td>\n",
       "      <td>Bengaluru</td>\n",
       "      <td>3</td>\n",
       "      <td>1,25,000 - 1,75,000 P.A</td>\n",
       "      <td>NaN</td>\n",
       "      <td>0</td>\n",
       "      <td>5</td>\n",
       "      <td>Any Graduate, Diploma - Any Specialization</td>\n",
       "      <td>[Bengaluru]</td>\n",
       "    </tr>\n",
       "    <tr>\n",
       "      <th>471</th>\n",
       "      <td>Synophic Systems Inc</td>\n",
       "      <td>UG: B.Tech/B.E. - Any Specialization, BCA - Co...</td>\n",
       "      <td>4 - 7 yrs</td>\n",
       "      <td>Telecom/ISP</td>\n",
       "      <td>Bengaluru</td>\n",
       "      <td>1</td>\n",
       "      <td>3,00,000 - 6,50,000 P.A. Negotiable</td>\n",
       "      <td>NaN</td>\n",
       "      <td>4</td>\n",
       "      <td>7</td>\n",
       "      <td>B.Tech/B.E., BCA - Computers, B.Sc - Any Speci...</td>\n",
       "      <td>[Bengaluru]</td>\n",
       "    </tr>\n",
       "  </tbody>\n",
       "</table>\n",
       "</div>"
      ],
      "text/plain": [
       "                                               company  \\\n",
       "68                         Manipal-City & Guilds (MCG)   \n",
       "128                       Delight HR Services Pvt Ltd.   \n",
       "176                               Synophic Systems Inc   \n",
       "182                           Crystal Hiring Pvt. Ltd.   \n",
       "206  Amogh Software Solutions Pvt Ltd hiring for Le...   \n",
       "228                                    Confident Group   \n",
       "303                        Ashish Interbuild Pvt. Ltd.   \n",
       "376        Frankfinn Institute of Air Hostess Training   \n",
       "422  Global Career Academy hiring for Office assistant   \n",
       "471                               Synophic Systems Inc   \n",
       "\n",
       "                                             education  experience  \\\n",
       "68   UG: Any Graduate PG:Post Graduation Not Requir...   2 - 5 yrs   \n",
       "128  UG: Any Graduate - Any Specialization PG:Post ...   2 - 5 yrs   \n",
       "176  UG: B.Tech/B.E. - Any Specialization, B.Sc - A...  7 - 12 yrs   \n",
       "182              UG: Any Graduate - Any Specialization  7 - 12 yrs   \n",
       "206              UG: Any Graduate - Any Specialization   3 - 7 yrs   \n",
       "228              UG: Any Graduate - Any Specialization   0 - 5 yrs   \n",
       "303  UG: B.Tech/B.E. - Any Specialization, Civil, D...   4 - 8 yrs   \n",
       "376              UG: Any Graduate - Any Specialization   2 - 5 yrs   \n",
       "422  UG: Any Graduate - Any Specialization, Diploma...   0 - 5 yrs   \n",
       "471  UG: B.Tech/B.E. - Any Specialization, BCA - Co...   4 - 7 yrs   \n",
       "\n",
       "                                   industry           joblocation_address  \\\n",
       "68          Education / Teaching / Training                     Bengaluru   \n",
       "128                                   Other                     Bengaluru   \n",
       "176                             Telecom/ISP                     Bengaluru   \n",
       "182         IT-Software / Software Services             Mumbai, Bengaluru   \n",
       "206  Banking / Financial Services / Broking                     Bengaluru   \n",
       "228                  Real Estate / Property                     Bengaluru   \n",
       "303          Architecture / Interior Design  Mumbai, Bengaluru, Hyderabad   \n",
       "376         Education / Teaching / Training              Bengaluru, Delhi   \n",
       "422         Education / Teaching / Training                     Bengaluru   \n",
       "471                             Telecom/ISP                     Bengaluru   \n",
       "\n",
       "     numberofpositions                                         payrate skills  \\\n",
       "68                   1                      Not Disclosed by Recruiter    NaN   \n",
       "128                  1                         2,50,000 - 3,50,000 P.A    NaN   \n",
       "176                  1            6,50,000 - 13,00,000 P.A. Negotiable    NaN   \n",
       "182                  1                        6,00,000 - 12,00,000 P.A    NaN   \n",
       "206                  1                      Not Disclosed by Recruiter    NaN   \n",
       "228                  2                      Not Disclosed by Recruiter    NaN   \n",
       "303                 10  4,00,000 - 6,00,000 P.A. Depends on Experience    NaN   \n",
       "376                  1                         2,00,000 - 3,00,000 P.A    NaN   \n",
       "422                  3                         1,25,000 - 1,75,000 P.A    NaN   \n",
       "471                  1             3,00,000 - 6,50,000 P.A. Negotiable    NaN   \n",
       "\n",
       "     min_year_exp  max_year_exp  \\\n",
       "68              2             5   \n",
       "128             2             5   \n",
       "176             7            12   \n",
       "182             7            12   \n",
       "206             3             7   \n",
       "228             0             5   \n",
       "303             4             8   \n",
       "376             2             5   \n",
       "422             0             5   \n",
       "471             4             7   \n",
       "\n",
       "                                                degree  \\\n",
       "68                                        Any Graduate   \n",
       "128                                       Any Graduate   \n",
       "176  B.Tech/B.E., B.Sc - Any Specialization, BCA - ...   \n",
       "182                                       Any Graduate   \n",
       "206                                       Any Graduate   \n",
       "228                                       Any Graduate   \n",
       "303  B.Tech/B.E., Civil, Diploma - Any Specializati...   \n",
       "376                                       Any Graduate   \n",
       "422         Any Graduate, Diploma - Any Specialization   \n",
       "471  B.Tech/B.E., BCA - Computers, B.Sc - Any Speci...   \n",
       "\n",
       "                                loc  \n",
       "68                      [Bengaluru]  \n",
       "128                     [Bengaluru]  \n",
       "176                     [Bengaluru]  \n",
       "182             [Mumbai, Bengaluru]  \n",
       "206                     [Bengaluru]  \n",
       "228                     [Bengaluru]  \n",
       "303  [Mumbai, Bengaluru, Hyderabad]  \n",
       "376              [Bengaluru, Delhi]  \n",
       "422                     [Bengaluru]  \n",
       "471                     [Bengaluru]  "
      ]
     },
     "execution_count": 45,
     "metadata": {},
     "output_type": "execute_result"
    }
   ],
   "source": [
    "# Let see the data that have missing value in columns skills\n",
    "data[data.skills.isnull()][:10]"
   ]
  },
  {
   "cell_type": "code",
   "execution_count": 46,
   "metadata": {},
   "outputs": [],
   "source": [
    "# Lets take a look on column industry in the data above. We see that the industry is pretty diverse.\n",
    "# So, instead of filling the missing value with the mode of the entire data, I am going to impute skills with the mode of skills of related industry\n",
    "mode_skills=[]\n",
    "for industry in data.industry.unique():\n",
    "    mode=data[data['industry']==industry][['skills','company']].groupby(['skills']).count().sort_values(by='company',ascending=False).index[0]\n",
    "    mode_skills.append(mode)"
   ]
  },
  {
   "cell_type": "code",
   "execution_count": 47,
   "metadata": {},
   "outputs": [
    {
     "data": {
      "text/plain": [
       "{'Media / Entertainment / Internet': 'Sales',\n",
       " 'Advertising / PR / MR / Event Management': 'Marketing',\n",
       " 'IT-Software / Software Services': 'IT Software - Application Programming',\n",
       " 'Banking / Financial Services / Broking': 'Sales',\n",
       " 'Aviation / Aerospace Firms': 'Production',\n",
       " 'Industrial Products / Heavy Machinery': 'Sales',\n",
       " 'FMCG / Foods / Beverage': 'Sales',\n",
       " 'Recruitment / Staffing': 'HR',\n",
       " 'Internet / Ecommerce': 'IT Software - Application Programming',\n",
       " 'Travel / Hotels / Restaurants / Airlines / Railways': 'Hotels',\n",
       " 'BPO / Call Centre / ITES': 'ITES',\n",
       " 'Pharma / Biotech / Clinical Research': 'Production',\n",
       " 'Real Estate / Property': 'Sales',\n",
       " 'Insurance': 'Sales',\n",
       " 'Facility Management': 'Sales',\n",
       " 'Publishing': 'Sales',\n",
       " 'Education / Teaching / Training': 'Teaching',\n",
       " 'Retail / Wholesale': 'Sales',\n",
       " 'Automobile / Auto Anciliary / Auto Components': 'Production',\n",
       " 'Chemicals / PetroChemical / Plastic / Rubber': 'Sales',\n",
       " 'Government / Defence': 'Engineering Design',\n",
       " 'Accounting / Finance': 'Accounts',\n",
       " 'Textiles / Garments / Accessories': 'Fashion Designing',\n",
       " 'Semiconductors / Electronics': 'IT Software - Embedded',\n",
       " 'Telecom/ISP': 'IT Software - Application Programming',\n",
       " 'Medical / Healthcare / Hospitals': 'Medical',\n",
       " 'Legal': 'Legal',\n",
       " 'Courier / Transportation / Freight / Warehousing': 'Sales',\n",
       " 'NGO / Social Services / Regulators / Industry Associations': 'Marketing',\n",
       " 'Other': 'Sales',\n",
       " 'Architecture / Interior Design': 'Architecture',\n",
       " 'KPO / Research / Analytics': 'Analytics & Business Intelligence',\n",
       " 'Construction / Engineering / Cement / Metals': 'Site Engineering',\n",
       " 'Office Equipment / Automation': 'Sales',\n",
       " 'Consumer Electronics / Appliances / Durables': 'Sales',\n",
       " 'Iron and Steel': 'Production',\n",
       " 'Strategy / Management Consulting Firms': 'IT Software - Application Programming',\n",
       " 'Oil and Gas / Energy / Power / Infrastructure': 'Engineering Design',\n",
       " 'IT-Hardware & Networking': 'IT Hardware',\n",
       " 'Wellness / Fitness / Sports / Beauty': 'Beauty/Fitness/Spa Services',\n",
       " 'Agriculture / Dairy': 'Sales',\n",
       " 'Electricals / Switchgears': 'IT Software - Application Programming',\n",
       " 'Security / Law Enforcement': 'Sales',\n",
       " 'Gems / Jewellery': 'Sales',\n",
       " 'Ceramics / Sanitary ware': 'Sales',\n",
       " 'Fresher / Trainee / Entry Level': 'Executive Assistant',\n",
       " 'Food Processing': 'Sales',\n",
       " 'Printing / Packaging': 'Sales',\n",
       " 'Brewery / Distillery': 'Accounts',\n",
       " 'Telecom/ISP /': 'Sales',\n",
       " 'Export / Import': 'Export',\n",
       " 'Heat Ventilation / Air Conditioning': 'Sales',\n",
       " 'Wellness / Fitness / Sports': 'Sales',\n",
       " 'Water Treatment / Waste Management': 'Production',\n",
       " 'Shipping / Marine': 'Executive Assistant',\n",
       " 'Glass / Glassware': 'Sales',\n",
       " 'Animation / Gaming': 'IT Software - Application Programming',\n",
       " 'Fertilizers / Pesticides': 'Accounts',\n",
       " 'Pulp and Paper': 'Accounts',\n",
       " 'Tyres': 'Supply Chain',\n",
       " 'Leather': 'Design',\n",
       " 'Broadcasting': 'Sales',\n",
       " 'Medical Devices / Equipments': 'IT Hardware'}"
      ]
     },
     "execution_count": 47,
     "metadata": {},
     "output_type": "execute_result"
    }
   ],
   "source": [
    "zip_iterator=zip(data.industry.unique().tolist(),mode_skills)\n",
    "dict_ind_skills=dict(zip_iterator)\n",
    "dict_ind_skills"
   ]
  },
  {
   "cell_type": "code",
   "execution_count": 48,
   "metadata": {},
   "outputs": [],
   "source": [
    "# Now we get the dictionary that consist of industry and the most needed skills for the industry\n",
    "for i in range(len(data)):\n",
    "    if pd.isnull(data.skills[i]):\n",
    "        data.skills[i]=dict_ind_skills[data.industry[i]]\n"
   ]
  },
  {
   "cell_type": "code",
   "execution_count": 49,
   "metadata": {},
   "outputs": [
    {
     "data": {
      "text/plain": [
       "0"
      ]
     },
     "execution_count": 49,
     "metadata": {},
     "output_type": "execute_result"
    }
   ],
   "source": [
    "data.skills.isnull().sum()"
   ]
  },
  {
   "cell_type": "code",
   "execution_count": 50,
   "metadata": {},
   "outputs": [
    {
     "data": {
      "image/png": "[encoded data removed]",
      "text/plain": [
       "<Figure size 864x576 with 1 Axes>"
      ]
     },
     "metadata": {},
     "output_type": "display_data"
    }
   ],
   "source": [
    "# Now we successfully impute the data, we are going to fetch the 20 most needed skills \n",
    "top_20_skills=pd.DataFrame(data['skills'].value_counts()[:20])\n",
    "top_20_skills.columns=['Count']\n",
    "plt.figure(figsize=(12,8))\n",
    "sns.barplot(y=top_20_skills.index,x=top_20_skills.Count,palette='magma')\n",
    "plt.title(\"20 Most Needed Skills in Today's Industries\",weight='bold',size=18)\n",
    "plt.show()"
   ]
  },
  {
   "cell_type": "markdown",
   "metadata": {},
   "source": [
    "From the chart above, we see that IT Software - Application Programming, Sales and ITES are the most needed skills in today's industry"
   ]
  },
  {
   "cell_type": "markdown",
   "metadata": {},
   "source": [
    "## Cleaning and Analysing Column Payrate ##"
   ]
  },
  {
   "cell_type": "code",
   "execution_count": 51,
   "metadata": {
    "scrolled": true
   },
   "outputs": [
    {
     "data": {
      "text/plain": [
       "0           1,50,000 - 2,25,000 P.A\n",
       "1    1,50,000 - 2,50,000 P.A. 20000\n",
       "2        Not Disclosed by Recruiter\n",
       "3        Not Disclosed by Recruiter\n",
       "4        Not Disclosed by Recruiter\n",
       "5        Not Disclosed by Recruiter\n",
       "6           3,00,000 - 6,50,000 P.A\n",
       "7        Not Disclosed by Recruiter\n",
       "8           1,00,000 - 2,00,000 P.A\n",
       "9        Not Disclosed by Recruiter\n",
       "Name: payrate, dtype: object"
      ]
     },
     "execution_count": 51,
     "metadata": {},
     "output_type": "execute_result"
    }
   ],
   "source": [
    "data.payrate[:10]"
   ]
  },
  {
   "cell_type": "code",
   "execution_count": 52,
   "metadata": {},
   "outputs": [
    {
     "data": {
      "text/plain": [
       "97"
      ]
     },
     "execution_count": 52,
     "metadata": {},
     "output_type": "execute_result"
    }
   ],
   "source": [
    "data.payrate.isnull().sum()"
   ]
  },
  {
   "cell_type": "code",
   "execution_count": 53,
   "metadata": {},
   "outputs": [
    {
     "data": {
      "text/plain": [
       "Not Disclosed by Recruiter                                                                                                                                                       15946\n",
       "Pay Band: PB4 (Rs.3740067000) with Academic Grade Pay of Rs.10,500/p.m.                                                                                                            121\n",
       "Pay Band: PB4 (Rs.3740067000) with Academic Grade Pay of Rs.9,500/p.m.                                                                                                             116\n",
       "Best in the Industry                                                                                                                                                                87\n",
       "Pay Band: PB3 (Rs.15600-39100) with Academic Grade Pay of Rs.8,000/p. m.                                                                                                            84\n",
       "                                                                                                                                                                                 ...  \n",
       "10,00,000 - 18,00,000 P.A. Excellent Paymaster                                                                                                                                       1\n",
       "Daily Working Allowance + Incentive as applicable. Salary not a constraint for the right candidate.                                                                                  1\n",
       "3,00,000 - 8,00,000 P.A. Petrol Allowance & Sales Incentives on Target Achievements                                                                                                  1\n",
       "Plus Conveyance Allowances+mobile allowances                                                                                                                                         1\n",
       "2,00,000 - 4,25,000 P.A. Salary hikes / incentives given based on performance. Night shift allowances / Over-time allowances / Medical benefits / Food coupons also provided.        1\n",
       "Name: payrate, Length: 1848, dtype: int64"
      ]
     },
     "execution_count": 53,
     "metadata": {},
     "output_type": "execute_result"
    }
   ],
   "source": [
    "# For now, we wil fill nan value with \" Not Disclosed by Recruiter\"\n",
    "data.payrate.fillna(\"Not Disclosed by Recruiter\",inplace=True)\n",
    "data.payrate.value_counts()"
   ]
  },
  {
   "cell_type": "code",
   "execution_count": 54,
   "metadata": {},
   "outputs": [
    {
     "name": "stdout",
     "output_type": "stream",
     "text": [
      "The percentage of job vacancies with not pay rate information is: 0.7248181818181818\n"
     ]
    }
   ],
   "source": [
    "# We see that majority of job vacancies dont display the payrate for job position, let see the percentage\n",
    "print(\"The percentage of job vacancies with not pay rate information is:\",data.payrate.value_counts()[0]/len(data.payrate))"
   ]
  },
  {
   "cell_type": "code",
   "execution_count": 55,
   "metadata": {},
   "outputs": [],
   "source": [
    "# The percentage is really high, so we wont do further analysis in this column"
   ]
  },
  {
   "cell_type": "markdown",
   "metadata": {},
   "source": [
    "## Cleaning and Analysing Column Company ##"
   ]
  },
  {
   "cell_type": "code",
   "execution_count": 56,
   "metadata": {},
   "outputs": [
    {
     "data": {
      "text/plain": [
       "Indian Institute of Technology Bombay           403\n",
       "Confidential                                    393\n",
       "National Institute of Industrial Engineering    185\n",
       "Oracle India Pvt. Ltd.                          151\n",
       "JPMorgan Chase                                  135\n",
       "Godrej Industries Ltd                           125\n",
       "Unitforce technologies Pvt. Ltd.                100\n",
       "Capgemini                                        98\n",
       "HCL Technologies                                 95\n",
       "Axis Jobs                                        92\n",
       "Name: company, dtype: int64"
      ]
     },
     "execution_count": 56,
     "metadata": {},
     "output_type": "execute_result"
    }
   ],
   "source": [
    "data.company.value_counts()[:10]"
   ]
  },
  {
   "cell_type": "code",
   "execution_count": 57,
   "metadata": {},
   "outputs": [
    {
     "data": {
      "text/plain": [
       "4"
      ]
     },
     "execution_count": 57,
     "metadata": {},
     "output_type": "execute_result"
    }
   ],
   "source": [
    "data.company.isnull().sum()"
   ]
  },
  {
   "cell_type": "code",
   "execution_count": 58,
   "metadata": {},
   "outputs": [
    {
     "data": {
      "text/plain": [
       "0"
      ]
     },
     "execution_count": 58,
     "metadata": {},
     "output_type": "execute_result"
    }
   ],
   "source": [
    "# We are going to impute missing value with \"Confidential\"\n",
    "data.company.fillna(\"Confidential\",inplace=True)\n",
    "data.company.isnull().sum()"
   ]
  },
  {
   "cell_type": "code",
   "execution_count": 59,
   "metadata": {
    "scrolled": false
   },
   "outputs": [
    {
     "data": {
      "image/png": "[encoded data removed]",
      "text/plain": [
       "<Figure size 864x576 with 1 Axes>"
      ]
     },
     "metadata": {},
     "output_type": "display_data"
    }
   ],
   "source": [
    "plt.figure(figsize=(12,8))\n",
    "data.company.value_counts()[:15].sort_values().plot(kind='barh',color='orchid')\n",
    "plt.title(\"15 Companies with Highest Job Opportunities in India\",size=18,weight='bold')\n",
    "plt.xticks(size=11,weight='bold')\n",
    "plt.yticks(size=11,weight='bold')\n",
    "plt.show()"
   ]
  },
  {
   "cell_type": "markdown",
   "metadata": {},
   "source": [
    "Now we get 15 companies with highest job opportunities in India, three of them are Indian Institute of Technology Bombay, National Institute of Industrial Engineering, and Oracle India Pvt. Ltd."
   ]
  },
  {
   "cell_type": "markdown",
   "metadata": {},
   "source": [
    "## Most Needed Skill for Particular Industry ##"
   ]
  },
  {
   "cell_type": "code",
   "execution_count": 60,
   "metadata": {},
   "outputs": [],
   "source": [
    "# This section will help jop applicant to prepare their skills if they want to pursue career in specifit industry\n",
    "mode_skills=[]\n",
    "for industry in data.industry.unique():\n",
    "    mode=data[data['industry']==industry][['skills','company']].groupby(['skills']).count().sort_values(by='company',ascending=False).index[0]\n",
    "    mode_skills.append(mode)"
   ]
  },
  {
   "cell_type": "code",
   "execution_count": 61,
   "metadata": {},
   "outputs": [
    {
     "data": {
      "text/html": [
       "<div>\n",
       "<style scoped>\n",
       "    .dataframe tbody tr th:only-of-type {\n",
       "        vertical-align: middle;\n",
       "    }\n",
       "\n",
       "    .dataframe tbody tr th {\n",
       "        vertical-align: top;\n",
       "    }\n",
       "\n",
       "    .dataframe thead th {\n",
       "        text-align: right;\n",
       "    }\n",
       "</style>\n",
       "<table border=\"1\" class=\"dataframe\">\n",
       "  <thead>\n",
       "    <tr style=\"text-align: right;\">\n",
       "      <th></th>\n",
       "      <th>Most Needed Skill</th>\n",
       "    </tr>\n",
       "  </thead>\n",
       "  <tbody>\n",
       "    <tr>\n",
       "      <th>Media / Entertainment / Internet</th>\n",
       "      <td>Sales</td>\n",
       "    </tr>\n",
       "    <tr>\n",
       "      <th>Advertising / PR / MR / Event Management</th>\n",
       "      <td>Marketing</td>\n",
       "    </tr>\n",
       "    <tr>\n",
       "      <th>IT-Software / Software Services</th>\n",
       "      <td>IT Software - Application Programming</td>\n",
       "    </tr>\n",
       "    <tr>\n",
       "      <th>Banking / Financial Services / Broking</th>\n",
       "      <td>Sales</td>\n",
       "    </tr>\n",
       "    <tr>\n",
       "      <th>Aviation / Aerospace Firms</th>\n",
       "      <td>Production</td>\n",
       "    </tr>\n",
       "    <tr>\n",
       "      <th>Industrial Products / Heavy Machinery</th>\n",
       "      <td>Sales</td>\n",
       "    </tr>\n",
       "    <tr>\n",
       "      <th>FMCG / Foods / Beverage</th>\n",
       "      <td>Sales</td>\n",
       "    </tr>\n",
       "    <tr>\n",
       "      <th>Recruitment / Staffing</th>\n",
       "      <td>HR</td>\n",
       "    </tr>\n",
       "    <tr>\n",
       "      <th>Internet / Ecommerce</th>\n",
       "      <td>IT Software - Application Programming</td>\n",
       "    </tr>\n",
       "    <tr>\n",
       "      <th>Travel / Hotels / Restaurants / Airlines / Railways</th>\n",
       "      <td>Hotels</td>\n",
       "    </tr>\n",
       "    <tr>\n",
       "      <th>BPO / Call Centre / ITES</th>\n",
       "      <td>ITES</td>\n",
       "    </tr>\n",
       "    <tr>\n",
       "      <th>Pharma / Biotech / Clinical Research</th>\n",
       "      <td>Production</td>\n",
       "    </tr>\n",
       "    <tr>\n",
       "      <th>Real Estate / Property</th>\n",
       "      <td>Sales</td>\n",
       "    </tr>\n",
       "    <tr>\n",
       "      <th>Insurance</th>\n",
       "      <td>Sales</td>\n",
       "    </tr>\n",
       "    <tr>\n",
       "      <th>Facility Management</th>\n",
       "      <td>Sales</td>\n",
       "    </tr>\n",
       "    <tr>\n",
       "      <th>Publishing</th>\n",
       "      <td>Sales</td>\n",
       "    </tr>\n",
       "    <tr>\n",
       "      <th>Education / Teaching / Training</th>\n",
       "      <td>Teaching</td>\n",
       "    </tr>\n",
       "    <tr>\n",
       "      <th>Retail / Wholesale</th>\n",
       "      <td>Sales</td>\n",
       "    </tr>\n",
       "    <tr>\n",
       "      <th>Automobile / Auto Anciliary / Auto Components</th>\n",
       "      <td>Production</td>\n",
       "    </tr>\n",
       "    <tr>\n",
       "      <th>Chemicals / PetroChemical / Plastic / Rubber</th>\n",
       "      <td>Sales</td>\n",
       "    </tr>\n",
       "    <tr>\n",
       "      <th>Government / Defence</th>\n",
       "      <td>Engineering Design</td>\n",
       "    </tr>\n",
       "    <tr>\n",
       "      <th>Accounting / Finance</th>\n",
       "      <td>Accounts</td>\n",
       "    </tr>\n",
       "    <tr>\n",
       "      <th>Textiles / Garments / Accessories</th>\n",
       "      <td>Fashion Designing</td>\n",
       "    </tr>\n",
       "    <tr>\n",
       "      <th>Semiconductors / Electronics</th>\n",
       "      <td>IT Software - Embedded</td>\n",
       "    </tr>\n",
       "    <tr>\n",
       "      <th>Telecom/ISP</th>\n",
       "      <td>IT Software - Application Programming</td>\n",
       "    </tr>\n",
       "    <tr>\n",
       "      <th>Medical / Healthcare / Hospitals</th>\n",
       "      <td>Medical</td>\n",
       "    </tr>\n",
       "    <tr>\n",
       "      <th>Legal</th>\n",
       "      <td>Legal</td>\n",
       "    </tr>\n",
       "    <tr>\n",
       "      <th>Courier / Transportation / Freight / Warehousing</th>\n",
       "      <td>Sales</td>\n",
       "    </tr>\n",
       "    <tr>\n",
       "      <th>NGO / Social Services / Regulators / Industry Associations</th>\n",
       "      <td>Marketing</td>\n",
       "    </tr>\n",
       "    <tr>\n",
       "      <th>Other</th>\n",
       "      <td>Sales</td>\n",
       "    </tr>\n",
       "    <tr>\n",
       "      <th>Architecture / Interior Design</th>\n",
       "      <td>Architecture</td>\n",
       "    </tr>\n",
       "    <tr>\n",
       "      <th>KPO / Research / Analytics</th>\n",
       "      <td>Analytics &amp; Business Intelligence</td>\n",
       "    </tr>\n",
       "    <tr>\n",
       "      <th>Construction / Engineering / Cement / Metals</th>\n",
       "      <td>Site Engineering</td>\n",
       "    </tr>\n",
       "    <tr>\n",
       "      <th>Office Equipment / Automation</th>\n",
       "      <td>Sales</td>\n",
       "    </tr>\n",
       "    <tr>\n",
       "      <th>Consumer Electronics / Appliances / Durables</th>\n",
       "      <td>Sales</td>\n",
       "    </tr>\n",
       "    <tr>\n",
       "      <th>Iron and Steel</th>\n",
       "      <td>Production</td>\n",
       "    </tr>\n",
       "    <tr>\n",
       "      <th>Strategy / Management Consulting Firms</th>\n",
       "      <td>IT Software - Application Programming</td>\n",
       "    </tr>\n",
       "    <tr>\n",
       "      <th>Oil and Gas / Energy / Power / Infrastructure</th>\n",
       "      <td>Engineering Design</td>\n",
       "    </tr>\n",
       "    <tr>\n",
       "      <th>IT-Hardware &amp; Networking</th>\n",
       "      <td>IT Hardware</td>\n",
       "    </tr>\n",
       "    <tr>\n",
       "      <th>Wellness / Fitness / Sports / Beauty</th>\n",
       "      <td>Beauty/Fitness/Spa Services</td>\n",
       "    </tr>\n",
       "    <tr>\n",
       "      <th>Agriculture / Dairy</th>\n",
       "      <td>Sales</td>\n",
       "    </tr>\n",
       "    <tr>\n",
       "      <th>Electricals / Switchgears</th>\n",
       "      <td>IT Software - Application Programming</td>\n",
       "    </tr>\n",
       "    <tr>\n",
       "      <th>Security / Law Enforcement</th>\n",
       "      <td>Sales</td>\n",
       "    </tr>\n",
       "    <tr>\n",
       "      <th>Gems / Jewellery</th>\n",
       "      <td>Sales</td>\n",
       "    </tr>\n",
       "    <tr>\n",
       "      <th>Ceramics / Sanitary ware</th>\n",
       "      <td>Sales</td>\n",
       "    </tr>\n",
       "    <tr>\n",
       "      <th>Fresher / Trainee / Entry Level</th>\n",
       "      <td>Executive Assistant</td>\n",
       "    </tr>\n",
       "    <tr>\n",
       "      <th>Food Processing</th>\n",
       "      <td>Sales</td>\n",
       "    </tr>\n",
       "    <tr>\n",
       "      <th>Printing / Packaging</th>\n",
       "      <td>Sales</td>\n",
       "    </tr>\n",
       "    <tr>\n",
       "      <th>Brewery / Distillery</th>\n",
       "      <td>Accounts</td>\n",
       "    </tr>\n",
       "    <tr>\n",
       "      <th>Telecom/ISP /</th>\n",
       "      <td>Sales</td>\n",
       "    </tr>\n",
       "    <tr>\n",
       "      <th>Export / Import</th>\n",
       "      <td>Export</td>\n",
       "    </tr>\n",
       "    <tr>\n",
       "      <th>Heat Ventilation / Air Conditioning</th>\n",
       "      <td>Sales</td>\n",
       "    </tr>\n",
       "    <tr>\n",
       "      <th>Wellness / Fitness / Sports</th>\n",
       "      <td>Sales</td>\n",
       "    </tr>\n",
       "    <tr>\n",
       "      <th>Water Treatment / Waste Management</th>\n",
       "      <td>Production</td>\n",
       "    </tr>\n",
       "    <tr>\n",
       "      <th>Shipping / Marine</th>\n",
       "      <td>Executive Assistant</td>\n",
       "    </tr>\n",
       "    <tr>\n",
       "      <th>Glass / Glassware</th>\n",
       "      <td>Sales</td>\n",
       "    </tr>\n",
       "    <tr>\n",
       "      <th>Animation / Gaming</th>\n",
       "      <td>IT Software - Application Programming</td>\n",
       "    </tr>\n",
       "    <tr>\n",
       "      <th>Fertilizers / Pesticides</th>\n",
       "      <td>Accounts</td>\n",
       "    </tr>\n",
       "    <tr>\n",
       "      <th>Pulp and Paper</th>\n",
       "      <td>Accounts</td>\n",
       "    </tr>\n",
       "    <tr>\n",
       "      <th>Tyres</th>\n",
       "      <td>Supply Chain</td>\n",
       "    </tr>\n",
       "    <tr>\n",
       "      <th>Leather</th>\n",
       "      <td>Design</td>\n",
       "    </tr>\n",
       "    <tr>\n",
       "      <th>Broadcasting</th>\n",
       "      <td>Sales</td>\n",
       "    </tr>\n",
       "    <tr>\n",
       "      <th>Medical Devices / Equipments</th>\n",
       "      <td>IT Hardware</td>\n",
       "    </tr>\n",
       "  </tbody>\n",
       "</table>\n",
       "</div>"
      ],
      "text/plain": [
       "                                                                        Most Needed Skill\n",
       "Media / Entertainment / Internet                                                    Sales\n",
       "Advertising / PR / MR / Event Management                                        Marketing\n",
       "IT-Software / Software Services                     IT Software - Application Programming\n",
       "Banking / Financial Services / Broking                                              Sales\n",
       "Aviation / Aerospace Firms                                                     Production\n",
       "Industrial Products / Heavy Machinery                                               Sales\n",
       "FMCG / Foods / Beverage                                                             Sales\n",
       "Recruitment / Staffing                                                                 HR\n",
       "Internet / Ecommerce                                IT Software - Application Programming\n",
       "Travel / Hotels / Restaurants / Airlines / Rail...                                 Hotels\n",
       "BPO / Call Centre / ITES                                                             ITES\n",
       "Pharma / Biotech / Clinical Research                                           Production\n",
       "Real Estate / Property                                                              Sales\n",
       "Insurance                                                                           Sales\n",
       "Facility Management                                                                 Sales\n",
       "Publishing                                                                          Sales\n",
       "Education / Teaching / Training                                                  Teaching\n",
       "Retail / Wholesale                                                                  Sales\n",
       "Automobile / Auto Anciliary / Auto Components                                  Production\n",
       "Chemicals / PetroChemical / Plastic / Rubber                                        Sales\n",
       "Government / Defence                                                   Engineering Design\n",
       "Accounting / Finance                                                             Accounts\n",
       "Textiles / Garments / Accessories                                       Fashion Designing\n",
       "Semiconductors / Electronics                                       IT Software - Embedded\n",
       "Telecom/ISP                                         IT Software - Application Programming\n",
       "Medical / Healthcare / Hospitals                                                  Medical\n",
       "Legal                                                                               Legal\n",
       "Courier / Transportation / Freight / Warehousing                                    Sales\n",
       "NGO / Social Services / Regulators / Industry A...                              Marketing\n",
       "Other                                                                               Sales\n",
       "Architecture / Interior Design                                               Architecture\n",
       "KPO / Research / Analytics                              Analytics & Business Intelligence\n",
       "Construction / Engineering / Cement / Metals                             Site Engineering\n",
       "Office Equipment / Automation                                                       Sales\n",
       "Consumer Electronics / Appliances / Durables                                        Sales\n",
       "Iron and Steel                                                                 Production\n",
       "Strategy / Management Consulting Firms              IT Software - Application Programming\n",
       "Oil and Gas / Energy / Power / Infrastructure                          Engineering Design\n",
       "IT-Hardware & Networking                                                      IT Hardware\n",
       "Wellness / Fitness / Sports / Beauty                          Beauty/Fitness/Spa Services\n",
       "Agriculture / Dairy                                                                 Sales\n",
       "Electricals / Switchgears                           IT Software - Application Programming\n",
       "Security / Law Enforcement                                                          Sales\n",
       "Gems / Jewellery                                                                    Sales\n",
       "Ceramics / Sanitary ware                                                            Sales\n",
       "Fresher / Trainee / Entry Level                                       Executive Assistant\n",
       "Food Processing                                                                     Sales\n",
       "Printing / Packaging                                                                Sales\n",
       "Brewery / Distillery                                                             Accounts\n",
       "Telecom/ISP /                                                                       Sales\n",
       "Export / Import                                                                    Export\n",
       "Heat Ventilation / Air Conditioning                                                 Sales\n",
       "Wellness / Fitness / Sports                                                         Sales\n",
       "Water Treatment / Waste Management                                             Production\n",
       "Shipping / Marine                                                     Executive Assistant\n",
       "Glass / Glassware                                                                   Sales\n",
       "Animation / Gaming                                  IT Software - Application Programming\n",
       "Fertilizers / Pesticides                                                         Accounts\n",
       "Pulp and Paper                                                                   Accounts\n",
       "Tyres                                                                        Supply Chain\n",
       "Leather                                                                            Design\n",
       "Broadcasting                                                                        Sales\n",
       "Medical Devices / Equipments                                                  IT Hardware"
      ]
     },
     "execution_count": 61,
     "metadata": {},
     "output_type": "execute_result"
    }
   ],
   "source": [
    "pd.set_option('max_rows',100)\n",
    "pd.DataFrame(mode_skills,data.industry.unique().tolist(),columns=[\"Most Needed Skill\"])[:63]"
   ]
  },
  {
   "cell_type": "markdown",
   "metadata": {},
   "source": [
    "## Average Minimal Year Experience and Maximal Year Experience for Each Industry ##"
   ]
  },
  {
   "cell_type": "code",
   "execution_count": 62,
   "metadata": {
    "scrolled": true
   },
   "outputs": [
    {
     "data": {
      "text/html": [
       "<style  type=\"text/css\" >\n",
       "#T_1a238a1b_e935_11eb_a007_70c94e3d640erow0_col0,#T_1a238a1b_e935_11eb_a007_70c94e3d640erow0_col1{\n",
       "            background-color:  #3b4cc0;\n",
       "            color:  #f1f1f1;\n",
       "        }#T_1a238a1b_e935_11eb_a007_70c94e3d640erow1_col0,#T_1a238a1b_e935_11eb_a007_70c94e3d640erow2_col0{\n",
       "            background-color:  #5977e3;\n",
       "            color:  #000000;\n",
       "        }#T_1a238a1b_e935_11eb_a007_70c94e3d640erow1_col1{\n",
       "            background-color:  #6e90f2;\n",
       "            color:  #000000;\n",
       "        }#T_1a238a1b_e935_11eb_a007_70c94e3d640erow2_col1{\n",
       "            background-color:  #4c66d6;\n",
       "            color:  #000000;\n",
       "        }#T_1a238a1b_e935_11eb_a007_70c94e3d640erow3_col0{\n",
       "            background-color:  #7295f4;\n",
       "            color:  #000000;\n",
       "        }#T_1a238a1b_e935_11eb_a007_70c94e3d640erow3_col1,#T_1a238a1b_e935_11eb_a007_70c94e3d640erow4_col0{\n",
       "            background-color:  #88abfd;\n",
       "            color:  #000000;\n",
       "        }#T_1a238a1b_e935_11eb_a007_70c94e3d640erow4_col1,#T_1a238a1b_e935_11eb_a007_70c94e3d640erow17_col1,#T_1a238a1b_e935_11eb_a007_70c94e3d640erow28_col0,#T_1a238a1b_e935_11eb_a007_70c94e3d640erow29_col0,#T_1a238a1b_e935_11eb_a007_70c94e3d640erow30_col0{\n",
       "            background-color:  #b7cff9;\n",
       "            color:  #000000;\n",
       "        }#T_1a238a1b_e935_11eb_a007_70c94e3d640erow5_col0,#T_1a238a1b_e935_11eb_a007_70c94e3d640erow6_col0{\n",
       "            background-color:  #8badfd;\n",
       "            color:  #000000;\n",
       "        }#T_1a238a1b_e935_11eb_a007_70c94e3d640erow5_col1{\n",
       "            background-color:  #94b6ff;\n",
       "            color:  #000000;\n",
       "        }#T_1a238a1b_e935_11eb_a007_70c94e3d640erow6_col1{\n",
       "            background-color:  #84a7fc;\n",
       "            color:  #000000;\n",
       "        }#T_1a238a1b_e935_11eb_a007_70c94e3d640erow7_col0{\n",
       "            background-color:  #8caffe;\n",
       "            color:  #000000;\n",
       "        }#T_1a238a1b_e935_11eb_a007_70c94e3d640erow7_col1,#T_1a238a1b_e935_11eb_a007_70c94e3d640erow13_col0{\n",
       "            background-color:  #98b9ff;\n",
       "            color:  #000000;\n",
       "        }#T_1a238a1b_e935_11eb_a007_70c94e3d640erow8_col0{\n",
       "            background-color:  #8db0fe;\n",
       "            color:  #000000;\n",
       "        }#T_1a238a1b_e935_11eb_a007_70c94e3d640erow8_col1,#T_1a238a1b_e935_11eb_a007_70c94e3d640erow11_col0{\n",
       "            background-color:  #96b7ff;\n",
       "            color:  #000000;\n",
       "        }#T_1a238a1b_e935_11eb_a007_70c94e3d640erow9_col0,#T_1a238a1b_e935_11eb_a007_70c94e3d640erow10_col0{\n",
       "            background-color:  #93b5fe;\n",
       "            color:  #000000;\n",
       "        }#T_1a238a1b_e935_11eb_a007_70c94e3d640erow9_col1,#T_1a238a1b_e935_11eb_a007_70c94e3d640erow14_col1{\n",
       "            background-color:  #9dbdff;\n",
       "            color:  #000000;\n",
       "        }#T_1a238a1b_e935_11eb_a007_70c94e3d640erow10_col1,#T_1a238a1b_e935_11eb_a007_70c94e3d640erow23_col0{\n",
       "            background-color:  #aac7fd;\n",
       "            color:  #000000;\n",
       "        }#T_1a238a1b_e935_11eb_a007_70c94e3d640erow11_col1{\n",
       "            background-color:  #9abbff;\n",
       "            color:  #000000;\n",
       "        }#T_1a238a1b_e935_11eb_a007_70c94e3d640erow12_col0{\n",
       "            background-color:  #97b8ff;\n",
       "            color:  #000000;\n",
       "        }#T_1a238a1b_e935_11eb_a007_70c94e3d640erow12_col1,#T_1a238a1b_e935_11eb_a007_70c94e3d640erow13_col1{\n",
       "            background-color:  #9ebeff;\n",
       "            color:  #000000;\n",
       "        }#T_1a238a1b_e935_11eb_a007_70c94e3d640erow14_col0,#T_1a238a1b_e935_11eb_a007_70c94e3d640erow16_col1{\n",
       "            background-color:  #9bbcff;\n",
       "            color:  #000000;\n",
       "        }#T_1a238a1b_e935_11eb_a007_70c94e3d640erow15_col0{\n",
       "            background-color:  #9fbfff;\n",
       "            color:  #000000;\n",
       "        }#T_1a238a1b_e935_11eb_a007_70c94e3d640erow15_col1,#T_1a238a1b_e935_11eb_a007_70c94e3d640erow21_col1,#T_1a238a1b_e935_11eb_a007_70c94e3d640erow28_col1,#T_1a238a1b_e935_11eb_a007_70c94e3d640erow31_col0{\n",
       "            background-color:  #b9d0f9;\n",
       "            color:  #000000;\n",
       "        }#T_1a238a1b_e935_11eb_a007_70c94e3d640erow16_col0{\n",
       "            background-color:  #a1c0ff;\n",
       "            color:  #000000;\n",
       "        }#T_1a238a1b_e935_11eb_a007_70c94e3d640erow17_col0,#T_1a238a1b_e935_11eb_a007_70c94e3d640erow18_col0,#T_1a238a1b_e935_11eb_a007_70c94e3d640erow19_col0{\n",
       "            background-color:  #a5c3fe;\n",
       "            color:  #000000;\n",
       "        }#T_1a238a1b_e935_11eb_a007_70c94e3d640erow18_col1,#T_1a238a1b_e935_11eb_a007_70c94e3d640erow27_col0{\n",
       "            background-color:  #b5cdfa;\n",
       "            color:  #000000;\n",
       "        }#T_1a238a1b_e935_11eb_a007_70c94e3d640erow19_col1,#T_1a238a1b_e935_11eb_a007_70c94e3d640erow24_col1,#T_1a238a1b_e935_11eb_a007_70c94e3d640erow25_col0,#T_1a238a1b_e935_11eb_a007_70c94e3d640erow25_col1{\n",
       "            background-color:  #b2ccfb;\n",
       "            color:  #000000;\n",
       "        }#T_1a238a1b_e935_11eb_a007_70c94e3d640erow20_col0{\n",
       "            background-color:  #a7c5fe;\n",
       "            color:  #000000;\n",
       "        }#T_1a238a1b_e935_11eb_a007_70c94e3d640erow20_col1,#T_1a238a1b_e935_11eb_a007_70c94e3d640erow39_col0,#T_1a238a1b_e935_11eb_a007_70c94e3d640erow40_col0{\n",
       "            background-color:  #bfd3f6;\n",
       "            color:  #000000;\n",
       "        }#T_1a238a1b_e935_11eb_a007_70c94e3d640erow21_col0,#T_1a238a1b_e935_11eb_a007_70c94e3d640erow22_col0{\n",
       "            background-color:  #a9c6fd;\n",
       "            color:  #000000;\n",
       "        }#T_1a238a1b_e935_11eb_a007_70c94e3d640erow22_col1{\n",
       "            background-color:  #abc8fd;\n",
       "            color:  #000000;\n",
       "        }#T_1a238a1b_e935_11eb_a007_70c94e3d640erow23_col1{\n",
       "            background-color:  #adc9fd;\n",
       "            color:  #000000;\n",
       "        }#T_1a238a1b_e935_11eb_a007_70c94e3d640erow24_col0{\n",
       "            background-color:  #afcafc;\n",
       "            color:  #000000;\n",
       "        }#T_1a238a1b_e935_11eb_a007_70c94e3d640erow26_col0,#T_1a238a1b_e935_11eb_a007_70c94e3d640erow30_col1{\n",
       "            background-color:  #b3cdfb;\n",
       "            color:  #000000;\n",
       "        }#T_1a238a1b_e935_11eb_a007_70c94e3d640erow26_col1,#T_1a238a1b_e935_11eb_a007_70c94e3d640erow32_col1,#T_1a238a1b_e935_11eb_a007_70c94e3d640erow37_col1,#T_1a238a1b_e935_11eb_a007_70c94e3d640erow40_col1,#T_1a238a1b_e935_11eb_a007_70c94e3d640erow42_col0,#T_1a238a1b_e935_11eb_a007_70c94e3d640erow43_col0{\n",
       "            background-color:  #c4d5f3;\n",
       "            color:  #000000;\n",
       "        }#T_1a238a1b_e935_11eb_a007_70c94e3d640erow27_col1{\n",
       "            background-color:  #b6cefa;\n",
       "            color:  #000000;\n",
       "        }#T_1a238a1b_e935_11eb_a007_70c94e3d640erow29_col1{\n",
       "            background-color:  #bbd1f8;\n",
       "            color:  #000000;\n",
       "        }#T_1a238a1b_e935_11eb_a007_70c94e3d640erow31_col1,#T_1a238a1b_e935_11eb_a007_70c94e3d640erow36_col0{\n",
       "            background-color:  #bcd2f7;\n",
       "            color:  #000000;\n",
       "        }#T_1a238a1b_e935_11eb_a007_70c94e3d640erow32_col0,#T_1a238a1b_e935_11eb_a007_70c94e3d640erow33_col0,#T_1a238a1b_e935_11eb_a007_70c94e3d640erow34_col0,#T_1a238a1b_e935_11eb_a007_70c94e3d640erow35_col0{\n",
       "            background-color:  #bad0f8;\n",
       "            color:  #000000;\n",
       "        }#T_1a238a1b_e935_11eb_a007_70c94e3d640erow33_col1,#T_1a238a1b_e935_11eb_a007_70c94e3d640erow37_col0,#T_1a238a1b_e935_11eb_a007_70c94e3d640erow38_col0{\n",
       "            background-color:  #bed2f6;\n",
       "            color:  #000000;\n",
       "        }#T_1a238a1b_e935_11eb_a007_70c94e3d640erow34_col1{\n",
       "            background-color:  #c5d6f2;\n",
       "            color:  #000000;\n",
       "        }#T_1a238a1b_e935_11eb_a007_70c94e3d640erow35_col1{\n",
       "            background-color:  #c0d4f5;\n",
       "            color:  #000000;\n",
       "        }#T_1a238a1b_e935_11eb_a007_70c94e3d640erow36_col1,#T_1a238a1b_e935_11eb_a007_70c94e3d640erow41_col0{\n",
       "            background-color:  #c1d4f4;\n",
       "            color:  #000000;\n",
       "        }#T_1a238a1b_e935_11eb_a007_70c94e3d640erow38_col1,#T_1a238a1b_e935_11eb_a007_70c94e3d640erow39_col1,#T_1a238a1b_e935_11eb_a007_70c94e3d640erow43_col1,#T_1a238a1b_e935_11eb_a007_70c94e3d640erow45_col0,#T_1a238a1b_e935_11eb_a007_70c94e3d640erow46_col0,#T_1a238a1b_e935_11eb_a007_70c94e3d640erow47_col0{\n",
       "            background-color:  #c9d7f0;\n",
       "            color:  #000000;\n",
       "        }#T_1a238a1b_e935_11eb_a007_70c94e3d640erow41_col1{\n",
       "            background-color:  #c3d5f4;\n",
       "            color:  #000000;\n",
       "        }#T_1a238a1b_e935_11eb_a007_70c94e3d640erow42_col1{\n",
       "            background-color:  #d2dbe8;\n",
       "            color:  #000000;\n",
       "        }#T_1a238a1b_e935_11eb_a007_70c94e3d640erow44_col0{\n",
       "            background-color:  #c6d6f1;\n",
       "            color:  #000000;\n",
       "        }#T_1a238a1b_e935_11eb_a007_70c94e3d640erow44_col1{\n",
       "            background-color:  #d4dbe6;\n",
       "            color:  #000000;\n",
       "        }#T_1a238a1b_e935_11eb_a007_70c94e3d640erow45_col1{\n",
       "            background-color:  #cdd9ec;\n",
       "            color:  #000000;\n",
       "        }#T_1a238a1b_e935_11eb_a007_70c94e3d640erow46_col1{\n",
       "            background-color:  #dbdcde;\n",
       "            color:  #000000;\n",
       "        }#T_1a238a1b_e935_11eb_a007_70c94e3d640erow47_col1,#T_1a238a1b_e935_11eb_a007_70c94e3d640erow48_col0,#T_1a238a1b_e935_11eb_a007_70c94e3d640erow48_col1{\n",
       "            background-color:  #cedaeb;\n",
       "            color:  #000000;\n",
       "        }#T_1a238a1b_e935_11eb_a007_70c94e3d640erow49_col0{\n",
       "            background-color:  #cfdaea;\n",
       "            color:  #000000;\n",
       "        }#T_1a238a1b_e935_11eb_a007_70c94e3d640erow49_col1,#T_1a238a1b_e935_11eb_a007_70c94e3d640erow51_col0{\n",
       "            background-color:  #d3dbe7;\n",
       "            color:  #000000;\n",
       "        }#T_1a238a1b_e935_11eb_a007_70c94e3d640erow50_col0{\n",
       "            background-color:  #d1dae9;\n",
       "            color:  #000000;\n",
       "        }#T_1a238a1b_e935_11eb_a007_70c94e3d640erow50_col1,#T_1a238a1b_e935_11eb_a007_70c94e3d640erow54_col0{\n",
       "            background-color:  #dadce0;\n",
       "            color:  #000000;\n",
       "        }#T_1a238a1b_e935_11eb_a007_70c94e3d640erow51_col1,#T_1a238a1b_e935_11eb_a007_70c94e3d640erow52_col0{\n",
       "            background-color:  #d8dce2;\n",
       "            color:  #000000;\n",
       "        }#T_1a238a1b_e935_11eb_a007_70c94e3d640erow52_col1{\n",
       "            background-color:  #d7dce3;\n",
       "            color:  #000000;\n",
       "        }#T_1a238a1b_e935_11eb_a007_70c94e3d640erow53_col0{\n",
       "            background-color:  #d9dce1;\n",
       "            color:  #000000;\n",
       "        }#T_1a238a1b_e935_11eb_a007_70c94e3d640erow53_col1{\n",
       "            background-color:  #e8d6cc;\n",
       "            color:  #000000;\n",
       "        }#T_1a238a1b_e935_11eb_a007_70c94e3d640erow54_col1{\n",
       "            background-color:  #e6d7cf;\n",
       "            color:  #000000;\n",
       "        }#T_1a238a1b_e935_11eb_a007_70c94e3d640erow55_col0{\n",
       "            background-color:  #e0dbd8;\n",
       "            color:  #000000;\n",
       "        }#T_1a238a1b_e935_11eb_a007_70c94e3d640erow55_col1,#T_1a238a1b_e935_11eb_a007_70c94e3d640erow57_col0,#T_1a238a1b_e935_11eb_a007_70c94e3d640erow57_col1{\n",
       "            background-color:  #e4d9d2;\n",
       "            color:  #000000;\n",
       "        }#T_1a238a1b_e935_11eb_a007_70c94e3d640erow56_col0{\n",
       "            background-color:  #e1dad6;\n",
       "            color:  #000000;\n",
       "        }#T_1a238a1b_e935_11eb_a007_70c94e3d640erow56_col1{\n",
       "            background-color:  #ecd3c5;\n",
       "            color:  #000000;\n",
       "        }#T_1a238a1b_e935_11eb_a007_70c94e3d640erow58_col0{\n",
       "            background-color:  #e7d7ce;\n",
       "            color:  #000000;\n",
       "        }#T_1a238a1b_e935_11eb_a007_70c94e3d640erow58_col1{\n",
       "            background-color:  #f0cdbb;\n",
       "            color:  #000000;\n",
       "        }#T_1a238a1b_e935_11eb_a007_70c94e3d640erow59_col0{\n",
       "            background-color:  #f1ccb8;\n",
       "            color:  #000000;\n",
       "        }#T_1a238a1b_e935_11eb_a007_70c94e3d640erow59_col1{\n",
       "            background-color:  #f4c6af;\n",
       "            color:  #000000;\n",
       "        }#T_1a238a1b_e935_11eb_a007_70c94e3d640erow60_col0{\n",
       "            background-color:  #f3c7b1;\n",
       "            color:  #000000;\n",
       "        }#T_1a238a1b_e935_11eb_a007_70c94e3d640erow60_col1{\n",
       "            background-color:  #f7b599;\n",
       "            color:  #000000;\n",
       "        }#T_1a238a1b_e935_11eb_a007_70c94e3d640erow61_col0{\n",
       "            background-color:  #f18d6f;\n",
       "            color:  #000000;\n",
       "        }#T_1a238a1b_e935_11eb_a007_70c94e3d640erow61_col1{\n",
       "            background-color:  #f59f80;\n",
       "            color:  #000000;\n",
       "        }#T_1a238a1b_e935_11eb_a007_70c94e3d640erow62_col0,#T_1a238a1b_e935_11eb_a007_70c94e3d640erow62_col1{\n",
       "            background-color:  #b40426;\n",
       "            color:  #f1f1f1;\n",
       "        }</style><table id=\"T_1a238a1b_e935_11eb_a007_70c94e3d640e\" ><thead>    <tr>        <th class=\"blank level0\" ></th>        <th class=\"col_heading level0 col0\" >min_year_exp</th>        <th class=\"col_heading level0 col1\" >max_year_exp</th>    </tr>    <tr>        <th class=\"index_name level0\" >industry</th>        <th class=\"blank\" ></th>        <th class=\"blank\" ></th>    </tr></thead><tbody>\n",
       "                <tr>\n",
       "                        <th id=\"T_1a238a1b_e935_11eb_a007_70c94e3d640elevel0_row0\" class=\"row_heading level0 row0\" >Fresher / Trainee / Entry Level</th>\n",
       "                        <td id=\"T_1a238a1b_e935_11eb_a007_70c94e3d640erow0_col0\" class=\"data row0 col0\" >0.055556</td>\n",
       "                        <td id=\"T_1a238a1b_e935_11eb_a007_70c94e3d640erow0_col1\" class=\"data row0 col1\" >2.222222</td>\n",
       "            </tr>\n",
       "            <tr>\n",
       "                        <th id=\"T_1a238a1b_e935_11eb_a007_70c94e3d640elevel0_row1\" class=\"row_heading level0 row1\" >Wellness / Fitness / Sports / Beauty</th>\n",
       "                        <td id=\"T_1a238a1b_e935_11eb_a007_70c94e3d640erow1_col0\" class=\"data row1 col0\" >1.000000</td>\n",
       "                        <td id=\"T_1a238a1b_e935_11eb_a007_70c94e3d640erow1_col1\" class=\"data row1 col1\" >4.250000</td>\n",
       "            </tr>\n",
       "            <tr>\n",
       "                        <th id=\"T_1a238a1b_e935_11eb_a007_70c94e3d640elevel0_row2\" class=\"row_heading level0 row2\" >Leather</th>\n",
       "                        <td id=\"T_1a238a1b_e935_11eb_a007_70c94e3d640erow2_col0\" class=\"data row2 col0\" >1.000000</td>\n",
       "                        <td id=\"T_1a238a1b_e935_11eb_a007_70c94e3d640erow2_col1\" class=\"data row2 col1\" >3.000000</td>\n",
       "            </tr>\n",
       "            <tr>\n",
       "                        <th id=\"T_1a238a1b_e935_11eb_a007_70c94e3d640elevel0_row3\" class=\"row_heading level0 row3\" >BPO / Call Centre / ITES</th>\n",
       "                        <td id=\"T_1a238a1b_e935_11eb_a007_70c94e3d640erow3_col0\" class=\"data row3 col0\" >1.731260</td>\n",
       "                        <td id=\"T_1a238a1b_e935_11eb_a007_70c94e3d640erow3_col1\" class=\"data row3 col1\" >5.175439</td>\n",
       "            </tr>\n",
       "            <tr>\n",
       "                        <th id=\"T_1a238a1b_e935_11eb_a007_70c94e3d640elevel0_row4\" class=\"row_heading level0 row4\" >Government / Defence</th>\n",
       "                        <td id=\"T_1a238a1b_e935_11eb_a007_70c94e3d640erow4_col0\" class=\"data row4 col0\" >2.315789</td>\n",
       "                        <td id=\"T_1a238a1b_e935_11eb_a007_70c94e3d640erow4_col1\" class=\"data row4 col1\" >6.894737</td>\n",
       "            </tr>\n",
       "            <tr>\n",
       "                        <th id=\"T_1a238a1b_e935_11eb_a007_70c94e3d640elevel0_row5\" class=\"row_heading level0 row5\" >Publishing</th>\n",
       "                        <td id=\"T_1a238a1b_e935_11eb_a007_70c94e3d640erow5_col0\" class=\"data row5 col0\" >2.386364</td>\n",
       "                        <td id=\"T_1a238a1b_e935_11eb_a007_70c94e3d640erow5_col1\" class=\"data row5 col1\" >5.636364</td>\n",
       "            </tr>\n",
       "            <tr>\n",
       "                        <th id=\"T_1a238a1b_e935_11eb_a007_70c94e3d640elevel0_row6\" class=\"row_heading level0 row6\" >Wellness / Fitness / Sports</th>\n",
       "                        <td id=\"T_1a238a1b_e935_11eb_a007_70c94e3d640erow6_col0\" class=\"data row6 col0\" >2.400000</td>\n",
       "                        <td id=\"T_1a238a1b_e935_11eb_a007_70c94e3d640erow6_col1\" class=\"data row6 col1\" >5.066667</td>\n",
       "            </tr>\n",
       "            <tr>\n",
       "                        <th id=\"T_1a238a1b_e935_11eb_a007_70c94e3d640elevel0_row7\" class=\"row_heading level0 row7\" >Travel / Hotels / Restaurants / Airlines / Railways</th>\n",
       "                        <td id=\"T_1a238a1b_e935_11eb_a007_70c94e3d640erow7_col0\" class=\"data row7 col0\" >2.428184</td>\n",
       "                        <td id=\"T_1a238a1b_e935_11eb_a007_70c94e3d640erow7_col1\" class=\"data row7 col1\" >5.769648</td>\n",
       "            </tr>\n",
       "            <tr>\n",
       "                        <th id=\"T_1a238a1b_e935_11eb_a007_70c94e3d640elevel0_row8\" class=\"row_heading level0 row8\" >Advertising / PR / MR / Event Management</th>\n",
       "                        <td id=\"T_1a238a1b_e935_11eb_a007_70c94e3d640erow8_col0\" class=\"data row8 col0\" >2.454183</td>\n",
       "                        <td id=\"T_1a238a1b_e935_11eb_a007_70c94e3d640erow8_col1\" class=\"data row8 col1\" >5.709163</td>\n",
       "            </tr>\n",
       "            <tr>\n",
       "                        <th id=\"T_1a238a1b_e935_11eb_a007_70c94e3d640elevel0_row9\" class=\"row_heading level0 row9\" >Medical / Healthcare / Hospitals</th>\n",
       "                        <td id=\"T_1a238a1b_e935_11eb_a007_70c94e3d640erow9_col0\" class=\"data row9 col0\" >2.597980</td>\n",
       "                        <td id=\"T_1a238a1b_e935_11eb_a007_70c94e3d640erow9_col1\" class=\"data row9 col1\" >5.921212</td>\n",
       "            </tr>\n",
       "            <tr>\n",
       "                        <th id=\"T_1a238a1b_e935_11eb_a007_70c94e3d640elevel0_row10\" class=\"row_heading level0 row10\" >Shipping / Marine</th>\n",
       "                        <td id=\"T_1a238a1b_e935_11eb_a007_70c94e3d640erow10_col0\" class=\"data row10 col0\" >2.611111</td>\n",
       "                        <td id=\"T_1a238a1b_e935_11eb_a007_70c94e3d640erow10_col1\" class=\"data row10 col1\" >6.444444</td>\n",
       "            </tr>\n",
       "            <tr>\n",
       "                        <th id=\"T_1a238a1b_e935_11eb_a007_70c94e3d640elevel0_row11\" class=\"row_heading level0 row11\" >Gems / Jewellery</th>\n",
       "                        <td id=\"T_1a238a1b_e935_11eb_a007_70c94e3d640erow11_col0\" class=\"data row11 col0\" >2.666667</td>\n",
       "                        <td id=\"T_1a238a1b_e935_11eb_a007_70c94e3d640erow11_col1\" class=\"data row11 col1\" >5.851852</td>\n",
       "            </tr>\n",
       "            <tr>\n",
       "                        <th id=\"T_1a238a1b_e935_11eb_a007_70c94e3d640elevel0_row12\" class=\"row_heading level0 row12\" >Animation / Gaming</th>\n",
       "                        <td id=\"T_1a238a1b_e935_11eb_a007_70c94e3d640erow12_col0\" class=\"data row12 col0\" >2.708333</td>\n",
       "                        <td id=\"T_1a238a1b_e935_11eb_a007_70c94e3d640erow12_col1\" class=\"data row12 col1\" >5.958333</td>\n",
       "            </tr>\n",
       "            <tr>\n",
       "                        <th id=\"T_1a238a1b_e935_11eb_a007_70c94e3d640elevel0_row13\" class=\"row_heading level0 row13\" >Media / Entertainment / Internet</th>\n",
       "                        <td id=\"T_1a238a1b_e935_11eb_a007_70c94e3d640erow13_col0\" class=\"data row13 col0\" >2.774545</td>\n",
       "                        <td id=\"T_1a238a1b_e935_11eb_a007_70c94e3d640erow13_col1\" class=\"data row13 col1\" >5.970909</td>\n",
       "            </tr>\n",
       "            <tr>\n",
       "                        <th id=\"T_1a238a1b_e935_11eb_a007_70c94e3d640elevel0_row14\" class=\"row_heading level0 row14\" >Heat Ventilation / Air Conditioning</th>\n",
       "                        <td id=\"T_1a238a1b_e935_11eb_a007_70c94e3d640erow14_col0\" class=\"data row14 col0\" >2.833333</td>\n",
       "                        <td id=\"T_1a238a1b_e935_11eb_a007_70c94e3d640erow14_col1\" class=\"data row14 col1\" >5.916667</td>\n",
       "            </tr>\n",
       "            <tr>\n",
       "                        <th id=\"T_1a238a1b_e935_11eb_a007_70c94e3d640elevel0_row15\" class=\"row_heading level0 row15\" >Insurance</th>\n",
       "                        <td id=\"T_1a238a1b_e935_11eb_a007_70c94e3d640erow15_col0\" class=\"data row15 col0\" >2.952663</td>\n",
       "                        <td id=\"T_1a238a1b_e935_11eb_a007_70c94e3d640erow15_col1\" class=\"data row15 col1\" >6.982249</td>\n",
       "            </tr>\n",
       "            <tr>\n",
       "                        <th id=\"T_1a238a1b_e935_11eb_a007_70c94e3d640elevel0_row16\" class=\"row_heading level0 row16\" >Internet / Ecommerce</th>\n",
       "                        <td id=\"T_1a238a1b_e935_11eb_a007_70c94e3d640erow16_col0\" class=\"data row16 col0\" >2.974255</td>\n",
       "                        <td id=\"T_1a238a1b_e935_11eb_a007_70c94e3d640erow16_col1\" class=\"data row16 col1\" >5.872629</td>\n",
       "            </tr>\n",
       "            <tr>\n",
       "                        <th id=\"T_1a238a1b_e935_11eb_a007_70c94e3d640elevel0_row17\" class=\"row_heading level0 row17\" >Legal</th>\n",
       "                        <td id=\"T_1a238a1b_e935_11eb_a007_70c94e3d640erow17_col0\" class=\"data row17 col0\" >3.086957</td>\n",
       "                        <td id=\"T_1a238a1b_e935_11eb_a007_70c94e3d640erow17_col1\" class=\"data row17 col1\" >6.913043</td>\n",
       "            </tr>\n",
       "            <tr>\n",
       "                        <th id=\"T_1a238a1b_e935_11eb_a007_70c94e3d640elevel0_row18\" class=\"row_heading level0 row18\" >Aviation / Aerospace Firms</th>\n",
       "                        <td id=\"T_1a238a1b_e935_11eb_a007_70c94e3d640erow18_col0\" class=\"data row18 col0\" >3.096774</td>\n",
       "                        <td id=\"T_1a238a1b_e935_11eb_a007_70c94e3d640erow18_col1\" class=\"data row18 col1\" >6.838710</td>\n",
       "            </tr>\n",
       "            <tr>\n",
       "                        <th id=\"T_1a238a1b_e935_11eb_a007_70c94e3d640elevel0_row19\" class=\"row_heading level0 row19\" >Other</th>\n",
       "                        <td id=\"T_1a238a1b_e935_11eb_a007_70c94e3d640erow19_col0\" class=\"data row19 col0\" >3.106195</td>\n",
       "                        <td id=\"T_1a238a1b_e935_11eb_a007_70c94e3d640erow19_col1\" class=\"data row19 col1\" >6.707965</td>\n",
       "            </tr>\n",
       "            <tr>\n",
       "                        <th id=\"T_1a238a1b_e935_11eb_a007_70c94e3d640elevel0_row20\" class=\"row_heading level0 row20\" >Office Equipment / Automation</th>\n",
       "                        <td id=\"T_1a238a1b_e935_11eb_a007_70c94e3d640erow20_col0\" class=\"data row20 col0\" >3.153846</td>\n",
       "                        <td id=\"T_1a238a1b_e935_11eb_a007_70c94e3d640erow20_col1\" class=\"data row20 col1\" >7.230769</td>\n",
       "            </tr>\n",
       "            <tr>\n",
       "                        <th id=\"T_1a238a1b_e935_11eb_a007_70c94e3d640elevel0_row21\" class=\"row_heading level0 row21\" >Ceramics / Sanitary ware</th>\n",
       "                        <td id=\"T_1a238a1b_e935_11eb_a007_70c94e3d640erow21_col0\" class=\"data row21 col0\" >3.190476</td>\n",
       "                        <td id=\"T_1a238a1b_e935_11eb_a007_70c94e3d640erow21_col1\" class=\"data row21 col1\" >6.952381</td>\n",
       "            </tr>\n",
       "            <tr>\n",
       "                        <th id=\"T_1a238a1b_e935_11eb_a007_70c94e3d640elevel0_row22\" class=\"row_heading level0 row22\" >Export / Import</th>\n",
       "                        <td id=\"T_1a238a1b_e935_11eb_a007_70c94e3d640erow22_col0\" class=\"data row22 col0\" >3.205882</td>\n",
       "                        <td id=\"T_1a238a1b_e935_11eb_a007_70c94e3d640erow22_col1\" class=\"data row22 col1\" >6.470588</td>\n",
       "            </tr>\n",
       "            <tr>\n",
       "                        <th id=\"T_1a238a1b_e935_11eb_a007_70c94e3d640elevel0_row23\" class=\"row_heading level0 row23\" >Security / Law Enforcement</th>\n",
       "                        <td id=\"T_1a238a1b_e935_11eb_a007_70c94e3d640erow23_col0\" class=\"data row23 col0\" >3.233333</td>\n",
       "                        <td id=\"T_1a238a1b_e935_11eb_a007_70c94e3d640erow23_col1\" class=\"data row23 col1\" >6.500000</td>\n",
       "            </tr>\n",
       "            <tr>\n",
       "                        <th id=\"T_1a238a1b_e935_11eb_a007_70c94e3d640elevel0_row24\" class=\"row_heading level0 row24\" >Industrial Products / Heavy Machinery</th>\n",
       "                        <td id=\"T_1a238a1b_e935_11eb_a007_70c94e3d640erow24_col0\" class=\"data row24 col0\" >3.387622</td>\n",
       "                        <td id=\"T_1a238a1b_e935_11eb_a007_70c94e3d640erow24_col1\" class=\"data row24 col1\" >6.703583</td>\n",
       "            </tr>\n",
       "            <tr>\n",
       "                        <th id=\"T_1a238a1b_e935_11eb_a007_70c94e3d640elevel0_row25\" class=\"row_heading level0 row25\" >Recruitment / Staffing</th>\n",
       "                        <td id=\"T_1a238a1b_e935_11eb_a007_70c94e3d640erow25_col0\" class=\"data row25 col0\" >3.451727</td>\n",
       "                        <td id=\"T_1a238a1b_e935_11eb_a007_70c94e3d640erow25_col1\" class=\"data row25 col1\" >6.740478</td>\n",
       "            </tr>\n",
       "            <tr>\n",
       "                        <th id=\"T_1a238a1b_e935_11eb_a007_70c94e3d640elevel0_row26\" class=\"row_heading level0 row26\" >Courier / Transportation / Freight / Warehousing</th>\n",
       "                        <td id=\"T_1a238a1b_e935_11eb_a007_70c94e3d640erow26_col0\" class=\"data row26 col0\" >3.509434</td>\n",
       "                        <td id=\"T_1a238a1b_e935_11eb_a007_70c94e3d640erow26_col1\" class=\"data row26 col1\" >7.386792</td>\n",
       "            </tr>\n",
       "            <tr>\n",
       "                        <th id=\"T_1a238a1b_e935_11eb_a007_70c94e3d640elevel0_row27\" class=\"row_heading level0 row27\" >Electricals / Switchgears</th>\n",
       "                        <td id=\"T_1a238a1b_e935_11eb_a007_70c94e3d640erow27_col0\" class=\"data row27 col0\" >3.542553</td>\n",
       "                        <td id=\"T_1a238a1b_e935_11eb_a007_70c94e3d640erow27_col1\" class=\"data row27 col1\" >6.882979</td>\n",
       "            </tr>\n",
       "            <tr>\n",
       "                        <th id=\"T_1a238a1b_e935_11eb_a007_70c94e3d640elevel0_row28\" class=\"row_heading level0 row28\" >NGO / Social Services / Regulators / Industry Associations</th>\n",
       "                        <td id=\"T_1a238a1b_e935_11eb_a007_70c94e3d640erow28_col0\" class=\"data row28 col0\" >3.605263</td>\n",
       "                        <td id=\"T_1a238a1b_e935_11eb_a007_70c94e3d640erow28_col1\" class=\"data row28 col1\" >6.973684</td>\n",
       "            </tr>\n",
       "            <tr>\n",
       "                        <th id=\"T_1a238a1b_e935_11eb_a007_70c94e3d640elevel0_row29\" class=\"row_heading level0 row29\" >Architecture / Interior Design</th>\n",
       "                        <td id=\"T_1a238a1b_e935_11eb_a007_70c94e3d640erow29_col0\" class=\"data row29 col0\" >3.606061</td>\n",
       "                        <td id=\"T_1a238a1b_e935_11eb_a007_70c94e3d640erow29_col1\" class=\"data row29 col1\" >7.060606</td>\n",
       "            </tr>\n",
       "            <tr>\n",
       "                        <th id=\"T_1a238a1b_e935_11eb_a007_70c94e3d640elevel0_row30\" class=\"row_heading level0 row30\" >KPO / Research / Analytics</th>\n",
       "                        <td id=\"T_1a238a1b_e935_11eb_a007_70c94e3d640erow30_col0\" class=\"data row30 col0\" >3.619469</td>\n",
       "                        <td id=\"T_1a238a1b_e935_11eb_a007_70c94e3d640erow30_col1\" class=\"data row30 col1\" >6.778761</td>\n",
       "            </tr>\n",
       "            <tr>\n",
       "                        <th id=\"T_1a238a1b_e935_11eb_a007_70c94e3d640elevel0_row31\" class=\"row_heading level0 row31\" >Accounting / Finance</th>\n",
       "                        <td id=\"T_1a238a1b_e935_11eb_a007_70c94e3d640erow31_col0\" class=\"data row31 col0\" >3.647577</td>\n",
       "                        <td id=\"T_1a238a1b_e935_11eb_a007_70c94e3d640erow31_col1\" class=\"data row31 col1\" >7.096916</td>\n",
       "            </tr>\n",
       "            <tr>\n",
       "                        <th id=\"T_1a238a1b_e935_11eb_a007_70c94e3d640elevel0_row32\" class=\"row_heading level0 row32\" >Retail / Wholesale</th>\n",
       "                        <td id=\"T_1a238a1b_e935_11eb_a007_70c94e3d640erow32_col0\" class=\"data row32 col0\" >3.679348</td>\n",
       "                        <td id=\"T_1a238a1b_e935_11eb_a007_70c94e3d640erow32_col1\" class=\"data row32 col1\" >7.413043</td>\n",
       "            </tr>\n",
       "            <tr>\n",
       "                        <th id=\"T_1a238a1b_e935_11eb_a007_70c94e3d640elevel0_row33\" class=\"row_heading level0 row33\" >Telecom/ISP /</th>\n",
       "                        <td id=\"T_1a238a1b_e935_11eb_a007_70c94e3d640erow33_col0\" class=\"data row33 col0\" >3.681159</td>\n",
       "                        <td id=\"T_1a238a1b_e935_11eb_a007_70c94e3d640erow33_col1\" class=\"data row33 col1\" >7.183575</td>\n",
       "            </tr>\n",
       "            <tr>\n",
       "                        <th id=\"T_1a238a1b_e935_11eb_a007_70c94e3d640elevel0_row34\" class=\"row_heading level0 row34\" >Automobile / Auto Anciliary / Auto Components</th>\n",
       "                        <td id=\"T_1a238a1b_e935_11eb_a007_70c94e3d640erow34_col0\" class=\"data row34 col0\" >3.698745</td>\n",
       "                        <td id=\"T_1a238a1b_e935_11eb_a007_70c94e3d640erow34_col1\" class=\"data row34 col1\" >7.479079</td>\n",
       "            </tr>\n",
       "            <tr>\n",
       "                        <th id=\"T_1a238a1b_e935_11eb_a007_70c94e3d640elevel0_row35\" class=\"row_heading level0 row35\" >Agriculture / Dairy</th>\n",
       "                        <td id=\"T_1a238a1b_e935_11eb_a007_70c94e3d640erow35_col0\" class=\"data row35 col0\" >3.704545</td>\n",
       "                        <td id=\"T_1a238a1b_e935_11eb_a007_70c94e3d640erow35_col1\" class=\"data row35 col1\" >7.272727</td>\n",
       "            </tr>\n",
       "            <tr>\n",
       "                        <th id=\"T_1a238a1b_e935_11eb_a007_70c94e3d640elevel0_row36\" class=\"row_heading level0 row36\" >IT-Software / Software Services</th>\n",
       "                        <td id=\"T_1a238a1b_e935_11eb_a007_70c94e3d640erow36_col0\" class=\"data row36 col0\" >3.763583</td>\n",
       "                        <td id=\"T_1a238a1b_e935_11eb_a007_70c94e3d640erow36_col1\" class=\"data row36 col1\" >7.294979</td>\n",
       "            </tr>\n",
       "            <tr>\n",
       "                        <th id=\"T_1a238a1b_e935_11eb_a007_70c94e3d640elevel0_row37\" class=\"row_heading level0 row37\" >Banking / Financial Services / Broking</th>\n",
       "                        <td id=\"T_1a238a1b_e935_11eb_a007_70c94e3d640erow37_col0\" class=\"data row37 col0\" >3.792407</td>\n",
       "                        <td id=\"T_1a238a1b_e935_11eb_a007_70c94e3d640erow37_col1\" class=\"data row37 col1\" >7.412763</td>\n",
       "            </tr>\n",
       "            <tr>\n",
       "                        <th id=\"T_1a238a1b_e935_11eb_a007_70c94e3d640elevel0_row38\" class=\"row_heading level0 row38\" >Consumer Electronics / Appliances / Durables</th>\n",
       "                        <td id=\"T_1a238a1b_e935_11eb_a007_70c94e3d640erow38_col0\" class=\"data row38 col0\" >3.801282</td>\n",
       "                        <td id=\"T_1a238a1b_e935_11eb_a007_70c94e3d640erow38_col1\" class=\"data row38 col1\" >7.615385</td>\n",
       "            </tr>\n",
       "            <tr>\n",
       "                        <th id=\"T_1a238a1b_e935_11eb_a007_70c94e3d640elevel0_row39\" class=\"row_heading level0 row39\" >Chemicals / PetroChemical / Plastic / Rubber</th>\n",
       "                        <td id=\"T_1a238a1b_e935_11eb_a007_70c94e3d640erow39_col0\" class=\"data row39 col0\" >3.855556</td>\n",
       "                        <td id=\"T_1a238a1b_e935_11eb_a007_70c94e3d640erow39_col1\" class=\"data row39 col1\" >7.577778</td>\n",
       "            </tr>\n",
       "            <tr>\n",
       "                        <th id=\"T_1a238a1b_e935_11eb_a007_70c94e3d640elevel0_row40\" class=\"row_heading level0 row40\" >Fertilizers / Pesticides</th>\n",
       "                        <td id=\"T_1a238a1b_e935_11eb_a007_70c94e3d640erow40_col0\" class=\"data row40 col0\" >3.857143</td>\n",
       "                        <td id=\"T_1a238a1b_e935_11eb_a007_70c94e3d640erow40_col1\" class=\"data row40 col1\" >7.428571</td>\n",
       "            </tr>\n",
       "            <tr>\n",
       "                        <th id=\"T_1a238a1b_e935_11eb_a007_70c94e3d640elevel0_row41\" class=\"row_heading level0 row41\" >Construction / Engineering / Cement / Metals</th>\n",
       "                        <td id=\"T_1a238a1b_e935_11eb_a007_70c94e3d640erow41_col0\" class=\"data row41 col0\" >3.899777</td>\n",
       "                        <td id=\"T_1a238a1b_e935_11eb_a007_70c94e3d640erow41_col1\" class=\"data row41 col1\" >7.354120</td>\n",
       "            </tr>\n",
       "            <tr>\n",
       "                        <th id=\"T_1a238a1b_e935_11eb_a007_70c94e3d640elevel0_row42\" class=\"row_heading level0 row42\" >Broadcasting</th>\n",
       "                        <td id=\"T_1a238a1b_e935_11eb_a007_70c94e3d640erow42_col0\" class=\"data row42 col0\" >4.000000</td>\n",
       "                        <td id=\"T_1a238a1b_e935_11eb_a007_70c94e3d640erow42_col1\" class=\"data row42 col1\" >8.000000</td>\n",
       "            </tr>\n",
       "            <tr>\n",
       "                        <th id=\"T_1a238a1b_e935_11eb_a007_70c94e3d640elevel0_row43\" class=\"row_heading level0 row43\" >Real Estate / Property</th>\n",
       "                        <td id=\"T_1a238a1b_e935_11eb_a007_70c94e3d640erow43_col0\" class=\"data row43 col0\" >4.004739</td>\n",
       "                        <td id=\"T_1a238a1b_e935_11eb_a007_70c94e3d640erow43_col1\" class=\"data row43 col1\" >7.587678</td>\n",
       "            </tr>\n",
       "            <tr>\n",
       "                        <th id=\"T_1a238a1b_e935_11eb_a007_70c94e3d640elevel0_row44\" class=\"row_heading level0 row44\" >Semiconductors / Electronics</th>\n",
       "                        <td id=\"T_1a238a1b_e935_11eb_a007_70c94e3d640erow44_col0\" class=\"data row44 col0\" >4.053691</td>\n",
       "                        <td id=\"T_1a238a1b_e935_11eb_a007_70c94e3d640erow44_col1\" class=\"data row44 col1\" >8.087248</td>\n",
       "            </tr>\n",
       "            <tr>\n",
       "                        <th id=\"T_1a238a1b_e935_11eb_a007_70c94e3d640elevel0_row45\" class=\"row_heading level0 row45\" >IT-Hardware & Networking</th>\n",
       "                        <td id=\"T_1a238a1b_e935_11eb_a007_70c94e3d640erow45_col0\" class=\"data row45 col0\" >4.134615</td>\n",
       "                        <td id=\"T_1a238a1b_e935_11eb_a007_70c94e3d640erow45_col1\" class=\"data row45 col1\" >7.793269</td>\n",
       "            </tr>\n",
       "            <tr>\n",
       "                        <th id=\"T_1a238a1b_e935_11eb_a007_70c94e3d640elevel0_row46\" class=\"row_heading level0 row46\" >Glass / Glassware</th>\n",
       "                        <td id=\"T_1a238a1b_e935_11eb_a007_70c94e3d640erow46_col0\" class=\"data row46 col0\" >4.142857</td>\n",
       "                        <td id=\"T_1a238a1b_e935_11eb_a007_70c94e3d640erow46_col1\" class=\"data row46 col1\" >8.428571</td>\n",
       "            </tr>\n",
       "            <tr>\n",
       "                        <th id=\"T_1a238a1b_e935_11eb_a007_70c94e3d640elevel0_row47\" class=\"row_heading level0 row47\" >Pharma / Biotech / Clinical Research</th>\n",
       "                        <td id=\"T_1a238a1b_e935_11eb_a007_70c94e3d640erow47_col0\" class=\"data row47 col0\" >4.156190</td>\n",
       "                        <td id=\"T_1a238a1b_e935_11eb_a007_70c94e3d640erow47_col1\" class=\"data row47 col1\" >7.828571</td>\n",
       "            </tr>\n",
       "            <tr>\n",
       "                        <th id=\"T_1a238a1b_e935_11eb_a007_70c94e3d640elevel0_row48\" class=\"row_heading level0 row48\" >Strategy / Management Consulting Firms</th>\n",
       "                        <td id=\"T_1a238a1b_e935_11eb_a007_70c94e3d640erow48_col0\" class=\"data row48 col0\" >4.311798</td>\n",
       "                        <td id=\"T_1a238a1b_e935_11eb_a007_70c94e3d640erow48_col1\" class=\"data row48 col1\" >7.853933</td>\n",
       "            </tr>\n",
       "            <tr>\n",
       "                        <th id=\"T_1a238a1b_e935_11eb_a007_70c94e3d640elevel0_row49\" class=\"row_heading level0 row49\" >FMCG / Foods / Beverage</th>\n",
       "                        <td id=\"T_1a238a1b_e935_11eb_a007_70c94e3d640erow49_col0\" class=\"data row49 col0\" >4.372727</td>\n",
       "                        <td id=\"T_1a238a1b_e935_11eb_a007_70c94e3d640erow49_col1\" class=\"data row49 col1\" >8.027273</td>\n",
       "            </tr>\n",
       "            <tr>\n",
       "                        <th id=\"T_1a238a1b_e935_11eb_a007_70c94e3d640elevel0_row50\" class=\"row_heading level0 row50\" >Printing / Packaging</th>\n",
       "                        <td id=\"T_1a238a1b_e935_11eb_a007_70c94e3d640erow50_col0\" class=\"data row50 col0\" >4.410256</td>\n",
       "                        <td id=\"T_1a238a1b_e935_11eb_a007_70c94e3d640erow50_col1\" class=\"data row50 col1\" >8.410256</td>\n",
       "            </tr>\n",
       "            <tr>\n",
       "                        <th id=\"T_1a238a1b_e935_11eb_a007_70c94e3d640elevel0_row51\" class=\"row_heading level0 row51\" >Education / Teaching / Training</th>\n",
       "                        <td id=\"T_1a238a1b_e935_11eb_a007_70c94e3d640erow51_col0\" class=\"data row51 col0\" >4.465204</td>\n",
       "                        <td id=\"T_1a238a1b_e935_11eb_a007_70c94e3d640erow51_col1\" class=\"data row51 col1\" >8.273828</td>\n",
       "            </tr>\n",
       "            <tr>\n",
       "                        <th id=\"T_1a238a1b_e935_11eb_a007_70c94e3d640elevel0_row52\" class=\"row_heading level0 row52\" >Telecom/ISP</th>\n",
       "                        <td id=\"T_1a238a1b_e935_11eb_a007_70c94e3d640erow52_col0\" class=\"data row52 col0\" >4.662921</td>\n",
       "                        <td id=\"T_1a238a1b_e935_11eb_a007_70c94e3d640erow52_col1\" class=\"data row52 col1\" >8.247191</td>\n",
       "            </tr>\n",
       "            <tr>\n",
       "                        <th id=\"T_1a238a1b_e935_11eb_a007_70c94e3d640elevel0_row53\" class=\"row_heading level0 row53\" >Water Treatment / Waste Management</th>\n",
       "                        <td id=\"T_1a238a1b_e935_11eb_a007_70c94e3d640erow53_col0\" class=\"data row53 col0\" >4.700000</td>\n",
       "                        <td id=\"T_1a238a1b_e935_11eb_a007_70c94e3d640erow53_col1\" class=\"data row53 col1\" >9.100000</td>\n",
       "            </tr>\n",
       "            <tr>\n",
       "                        <th id=\"T_1a238a1b_e935_11eb_a007_70c94e3d640elevel0_row54\" class=\"row_heading level0 row54\" >Brewery / Distillery</th>\n",
       "                        <td id=\"T_1a238a1b_e935_11eb_a007_70c94e3d640erow54_col0\" class=\"data row54 col0\" >4.750000</td>\n",
       "                        <td id=\"T_1a238a1b_e935_11eb_a007_70c94e3d640erow54_col1\" class=\"data row54 col1\" >9.000000</td>\n",
       "            </tr>\n",
       "            <tr>\n",
       "                        <th id=\"T_1a238a1b_e935_11eb_a007_70c94e3d640elevel0_row55\" class=\"row_heading level0 row55\" >Textiles / Garments / Accessories</th>\n",
       "                        <td id=\"T_1a238a1b_e935_11eb_a007_70c94e3d640erow55_col0\" class=\"data row55 col0\" >4.944444</td>\n",
       "                        <td id=\"T_1a238a1b_e935_11eb_a007_70c94e3d640erow55_col1\" class=\"data row55 col1\" >8.873016</td>\n",
       "            </tr>\n",
       "            <tr>\n",
       "                        <th id=\"T_1a238a1b_e935_11eb_a007_70c94e3d640elevel0_row56\" class=\"row_heading level0 row56\" >Facility Management</th>\n",
       "                        <td id=\"T_1a238a1b_e935_11eb_a007_70c94e3d640erow56_col0\" class=\"data row56 col0\" >5.000000</td>\n",
       "                        <td id=\"T_1a238a1b_e935_11eb_a007_70c94e3d640erow56_col1\" class=\"data row56 col1\" >9.333333</td>\n",
       "            </tr>\n",
       "            <tr>\n",
       "                        <th id=\"T_1a238a1b_e935_11eb_a007_70c94e3d640elevel0_row57\" class=\"row_heading level0 row57\" >Oil and Gas / Energy / Power / Infrastructure</th>\n",
       "                        <td id=\"T_1a238a1b_e935_11eb_a007_70c94e3d640erow57_col0\" class=\"data row57 col0\" >5.091346</td>\n",
       "                        <td id=\"T_1a238a1b_e935_11eb_a007_70c94e3d640erow57_col1\" class=\"data row57 col1\" >8.889423</td>\n",
       "            </tr>\n",
       "            <tr>\n",
       "                        <th id=\"T_1a238a1b_e935_11eb_a007_70c94e3d640elevel0_row58\" class=\"row_heading level0 row58\" >Food Processing</th>\n",
       "                        <td id=\"T_1a238a1b_e935_11eb_a007_70c94e3d640erow58_col0\" class=\"data row58 col0\" >5.222222</td>\n",
       "                        <td id=\"T_1a238a1b_e935_11eb_a007_70c94e3d640erow58_col1\" class=\"data row58 col1\" >9.611111</td>\n",
       "            </tr>\n",
       "            <tr>\n",
       "                        <th id=\"T_1a238a1b_e935_11eb_a007_70c94e3d640elevel0_row59\" class=\"row_heading level0 row59\" >Medical Devices / Equipments</th>\n",
       "                        <td id=\"T_1a238a1b_e935_11eb_a007_70c94e3d640erow59_col0\" class=\"data row59 col0\" >5.750000</td>\n",
       "                        <td id=\"T_1a238a1b_e935_11eb_a007_70c94e3d640erow59_col1\" class=\"data row59 col1\" >10.000000</td>\n",
       "            </tr>\n",
       "            <tr>\n",
       "                        <th id=\"T_1a238a1b_e935_11eb_a007_70c94e3d640elevel0_row60\" class=\"row_heading level0 row60\" >Iron and Steel</th>\n",
       "                        <td id=\"T_1a238a1b_e935_11eb_a007_70c94e3d640erow60_col0\" class=\"data row60 col0\" >5.916667</td>\n",
       "                        <td id=\"T_1a238a1b_e935_11eb_a007_70c94e3d640erow60_col1\" class=\"data row60 col1\" >10.708333</td>\n",
       "            </tr>\n",
       "            <tr>\n",
       "                        <th id=\"T_1a238a1b_e935_11eb_a007_70c94e3d640elevel0_row61\" class=\"row_heading level0 row61\" >Pulp and Paper</th>\n",
       "                        <td id=\"T_1a238a1b_e935_11eb_a007_70c94e3d640erow61_col0\" class=\"data row61 col0\" >7.500000</td>\n",
       "                        <td id=\"T_1a238a1b_e935_11eb_a007_70c94e3d640erow61_col1\" class=\"data row61 col1\" >11.500000</td>\n",
       "            </tr>\n",
       "            <tr>\n",
       "                        <th id=\"T_1a238a1b_e935_11eb_a007_70c94e3d640elevel0_row62\" class=\"row_heading level0 row62\" >Tyres</th>\n",
       "                        <td id=\"T_1a238a1b_e935_11eb_a007_70c94e3d640erow62_col0\" class=\"data row62 col0\" >9.600000</td>\n",
       "                        <td id=\"T_1a238a1b_e935_11eb_a007_70c94e3d640erow62_col1\" class=\"data row62 col1\" >14.800000</td>\n",
       "            </tr>\n",
       "    </tbody></table>"
      ],
      "text/plain": [
       "<pandas.io.formats.style.Styler at 0x20595255790>"
      ]
     },
     "metadata": {},
     "output_type": "display_data"
    }
   ],
   "source": [
    "# This information can give insight for jobseeker to find a job that match their year experience\n",
    "pd.set_option('max_rows',70)\n",
    "display(data[['industry','min_year_exp','max_year_exp']].groupby(['industry']).mean().sort_values(by='min_year_exp').style.background_gradient(cmap='coolwarm'))"
   ]
  },
  {
   "cell_type": "markdown",
   "metadata": {},
   "source": [
    "From the result above, we find some industries that require relatively short year experience, such as Fresher/Trainee/Entry Level, Wellness/Fitness/Sports/ Beauty, and Leather. We also find some industries that require many years of experience, such as Tyres, Pulp and Paper, and Medical Devices / Equipments."
   ]
  },
  {
   "cell_type": "markdown",
   "metadata": {},
   "source": [
    "## Job Reccomendation ##"
   ]
  },
  {
   "cell_type": "code",
   "execution_count": 63,
   "metadata": {},
   "outputs": [],
   "source": [
    "# In this section, I want to make an interactive funtion to find jobs based on some criterias\n",
    "# such as year experiece, degree, skill, and location"
   ]
  },
  {
   "cell_type": "code",
   "execution_count": 64,
   "metadata": {},
   "outputs": [
    {
     "data": {
      "application/vnd.jupyter.widget-view+json": {
       "model_id": "7803cca829884defb72fb054b2fc4d3a",
       "version_major": 2,
       "version_minor": 0
      },
      "text/plain": [
       "interactive(children=(Dropdown(description='min_exp', options=(0, 1, 2, 3, 4, 5, 6, 7, 8, 9, 10, 11, 12, 13, 1…"
      ]
     },
     "metadata": {},
     "output_type": "display_data"
    }
   ],
   "source": [
    "@interact\n",
    "def job_reccomendation(min_exp=range(0,25),max_exp=range(0,27),degree=list(data.degree.unique()),skills=data.skills.unique(),loc=list(x.unique())):\n",
    "    bool_loc=[]\n",
    "    for i in range(len(data)):\n",
    "        if np.isin(loc,data['loc'][i]): bool_loc.append(bool(1))\n",
    "        else : bool_loc.append(bool(0))\n",
    "    y=data[(data[\"min_year_exp\"]>=min_exp)&(data[\"max_year_exp\"]<=max_exp)&(data[\"degree\"]==degree)&(data[\"skills\"]==skills)&(pd.Series(bool_loc))][['company','loc','industry', 'degree', 'experience','skills','numberofpositions','payrate' ]].reset_index(drop=True)\n",
    "    return y"
   ]
  },
  {
   "cell_type": "code",
   "execution_count": null,
   "metadata": {},
   "outputs": [],
   "source": []
  }
 ],
 "metadata": {
  "kernelspec": {
   "display_name": "Python 3",
   "language": "python",
   "name": "python3"
  },
  "language_info": {
   "codemirror_mode": {
    "name": "ipython",
    "version": 3
   },
   "file_extension": ".py",
   "mimetype": "text/x-python",
   "name": "python",
   "nbconvert_exporter": "python",
   "pygments_lexer": "ipython3",
   "version": "3.8.5"
  }
 },
 "nbformat": 4,
 "nbformat_minor": 4
}
